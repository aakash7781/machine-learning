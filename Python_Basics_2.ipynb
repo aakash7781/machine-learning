{
 "cells": [
  {
   "cell_type": "markdown",
   "metadata": {
    "colab_type": "text",
    "id": "ek4PGqxdG5sk"
   },
   "source": [
    "### print() function"
   ]
  },
  {
   "cell_type": "code",
   "execution_count": null,
   "metadata": {
    "colab": {},
    "colab_type": "code",
    "id": "uh1QIwTYH10s"
   },
   "outputs": [],
   "source": []
  },
  {
   "cell_type": "code",
   "execution_count": 1,
   "metadata": {
    "colab": {
     "base_uri": "https://localhost:8080/",
     "height": 34
    },
    "colab_type": "code",
    "id": "opEi0UOgG5sp",
    "outputId": "7806309f-d3d6-4146-dd6f-680f667dfd8d"
   },
   "outputs": [],
   "source": [
    "# First Program\n",
    "print(\"acropolis\")"
   ]
  },
  {
   "cell_type": "markdown",
   "metadata": {
    "colab_type": "text",
    "id": "3LOt0pHO_GkC"
   },
   "source": []
  },
  {
   "cell_type": "code",
   "execution_count": null,
   "metadata": {
    "colab": {},
    "colab_type": "code",
    "id": "uSMWmtXTsqH2"
   },
   "outputs": [],
   "source": []
  },
  {
   "cell_type": "markdown",
   "metadata": {
    "colab_type": "text",
    "id": "PtDg6KhQG5sn"
   },
   "source": [
    "### Comments"
   ]
  },
  {
   "cell_type": "markdown",
   "metadata": {
    "colab_type": "text",
    "id": "-PwiE7I2G5sv"
   },
   "source": [
    "### Variables"
   ]
  },
  {
   "cell_type": "code",
   "execution_count": 2,
   "metadata": {
    "colab": {
     "base_uri": "https://localhost:8080/",
     "height": 34
    },
    "colab_type": "code",
    "id": "4h_N96TEG5sx",
    "outputId": "a46cf408-fab5-4656-dc47-1d0ef171226e"
   },
   "outputs": [],
   "source": [
    "# In Python there is no need to mention the data type\n",
    "\n",
    "var1 = 20      # An integer assignment\n",
    "var2 = 4.123   # A floating point\n",
    "var3 = \"India\" # A string\n",
    "\n",
    "print(var1,' ',var2,' ',var3)"
   ]
  },
  {
   "cell_type": "code",
   "execution_count": null,
   "metadata": {
    "colab": {},
    "colab_type": "code",
    "id": "9BuTFGIHsl1s"
   },
   "outputs": [],
   "source": []
  },
  {
   "cell_type": "markdown",
   "metadata": {
    "colab_type": "text",
    "id": "OJjSBDPUG5s1"
   },
   "source": [
    "### Assignment"
   ]
  },
  {
   "cell_type": "code",
   "execution_count": 3,
   "metadata": {
    "colab": {
     "base_uri": "https://localhost:8080/",
     "height": 51
    },
    "colab_type": "code",
    "id": "D_J2d-iLG5s3",
    "outputId": "f065f30b-e292-4d85-ceab-1083efb4c884",
    "scrolled": true
   },
   "outputs": [
    {
     "name": "stdout",
     "output_type": "stream",
     "text": [
      "1   1   1\n",
      "1   2.5   rupal\n"
     ]
    }
   ],
   "source": [
    "# general syntax\n",
    "#variable-name=value\n",
    "\n",
    "# Assigning same value to multiple variables\n",
    "\n",
    "var1 = var2 = var3 = 1\n",
    "print(var1,' ',var2,' ',var3)\n",
    "\n",
    "# Assigning Different values to variable in a single expression\n",
    "\n",
    "var1, var2, var3 = 1, 2.5, \"rupal\"\n",
    "print(var1,' ',var2,' ',var3)\n",
    "\n",
    "# Note: commas can be used for multi-assignments"
   ]
  },
  {
   "cell_type": "code",
   "execution_count": null,
   "metadata": {
    "colab": {},
    "colab_type": "code",
    "id": "Gaq394ter0DP"
   },
   "outputs": [],
   "source": []
  },
  {
   "cell_type": "markdown",
   "metadata": {
    "colab_type": "text",
    "id": "xDs1JHtIG5s8"
   },
   "source": [
    "### Taking input"
   ]
  },
  {
   "cell_type": "code",
   "execution_count": 4,
   "metadata": {
    "colab": {
     "base_uri": "https://localhost:8080/",
     "height": 68
    },
    "colab_type": "code",
    "id": "56pGA0vmG5s9",
    "outputId": "16207a10-c55a-4748-c96a-8f7aa4d57e9a",
    "scrolled": true
   },
   "outputs": [
    {
     "name": "stdout",
     "output_type": "stream",
     "text": [
      "Enter your first name: Aakash\n",
      "Enter your second name: Maheshwari\n",
      "Enter your semester: 6th\n"
     ]
    }
   ],
   "source": [
    "firstname = input(\"Enter your first name: \")\n",
    "lastname = input(\"Enter your second name: \")\n",
    "semester = input(\"Enter your semester: \")"
   ]
  },
  {
   "cell_type": "markdown",
   "metadata": {
    "colab_type": "text",
    "id": "mj-0jPpUr4a8"
   },
   "source": [
    "\n"
   ]
  },
  {
   "cell_type": "code",
   "execution_count": 5,
   "metadata": {
    "colab": {
     "base_uri": "https://localhost:8080/",
     "height": 51
    },
    "colab_type": "code",
    "id": "U3RV2XeRG5tD",
    "outputId": "c17878a3-8604-4cd5-c69a-a77abceda163"
   },
   "outputs": [
    {
     "name": "stdout",
     "output_type": "stream",
     "text": [
      "Enter your age: 20\n",
      "25\n"
     ]
    }
   ],
   "source": [
    "# run below code\n",
    "age = input(\"Enter your age: \")\n",
    "age = int(age)+5\n",
    "print(age)"
   ]
  },
  {
   "cell_type": "markdown",
   "metadata": {
    "colab_type": "text",
    "id": "MpWzqas4G5tH"
   },
   "source": [
    "### Write a program in Python for data type conversion from: \n",
    "- int to string\n",
    "- int to float\n",
    "- string to int\n",
    "- string to float\n",
    "- float to int\n",
    "- float to string"
   ]
  },
  {
   "cell_type": "code",
   "execution_count": 6,
   "metadata": {
    "colab": {
     "base_uri": "https://localhost:8080/",
     "height": 119
    },
    "colab_type": "code",
    "id": "EohYaD0jG5tJ",
    "outputId": "6357f63f-fad3-4e49-cff2-d1dde73d5a25"
   },
   "outputs": [
    {
     "name": "stdout",
     "output_type": "stream",
     "text": [
      "10\n",
      "10.0\n",
      "20\n",
      "20.0\n",
      "23\n",
      "23.56\n"
     ]
    }
   ],
   "source": [
    "a=10\n",
    "print(str(a))\n",
    "print(float(a))\n",
    "\n",
    "b='20'\n",
    "print(int(b))\n",
    "print(float(b))\n",
    "\n",
    "c=23.56\n",
    "print(int(c))\n",
    "print(str(c))"
   ]
  },
  {
   "cell_type": "markdown",
   "metadata": {
    "colab_type": "text",
    "id": "3SQpXHpgG5tN"
   },
   "source": [
    "### Task1: \n",
    "#### WAP to display your infomation like (full name, branch, university name, age, 12th %, hobbies). Store each value into some meaningful variable.  the ouptput of the program should look like"
   ]
  },
  {
   "cell_type": "code",
   "execution_count": null,
   "metadata": {
    "colab": {},
    "colab_type": "code",
    "id": "MhXiJm_ajJJr"
   },
   "outputs": [],
   "source": []
  },
  {
   "cell_type": "code",
   "execution_count": 7,
   "metadata": {
    "colab": {
     "base_uri": "https://localhost:8080/",
     "height": 241
    },
    "colab_type": "code",
    "id": "NcmrqUkXG5tQ",
    "outputId": "eb6f408e-278f-4b24-c3ab-5a579b2738b3"
   },
   "outputs": [
    {
     "name": "stdout",
     "output_type": "stream",
     "text": [
      "Enter your full name: Aakash Maheshwari\n",
      "Enter your branch: CS\n",
      "Enter your university: RGPV\n",
      "Enter your age: 20\n",
      "Enter your 12%: 88\n",
      "Enter your hobbies: reading spiritual texts, studying psychology \n",
      "Aakash Maheshwari\n",
      "CS\n",
      "RGPV\n",
      "20\n",
      "88\n",
      "reading spiritual texts, studying psychology \n"
     ]
    }
   ],
   "source": [
    "\n",
    "full_name=input(\"Enter your full name: \")\n",
    "branch=input(\"Enter your branch: \")\n",
    "university=input(\"Enter your university: \")\n",
    "age=input(\"Enter your age: \")\n",
    "twelth_per=input(\"Enter your 12%: \")\n",
    "hobbies=input(\"Enter your hobbies: \")\n",
    "print(full_name)\n",
    "print(branch)\n",
    "print(university)\n",
    "print(age)\n",
    "print(twelth_per)\n",
    "print(hobbies)"
   ]
  },
  {
   "cell_type": "markdown",
   "metadata": {
    "colab_type": "text",
    "id": "aUn64sgNG5tU"
   },
   "source": [
    "### Commmonly used functions \n",
    "- round(n)\n",
    "- format(n, '0.2f')\n",
    "- format(n,',') # put a comma on thousand place\n",
    "- format(n,'b') # print binary of the number, 'o', 'x'\n",
    "\n",
    "- eval(expression)\n",
    "- chr(n)\n",
    "- ord(character)\n",
    "- bin(n), oct(n), hex(n)\n",
    "\n",
    "- #### function on string/character data\n",
    "- isdigit()\n",
    "- isalpha()\n",
    "- isspace()\n",
    "- numeric()\n",
    "- ljust(width)\n",
    "- rjust(width)\n",
    "- cjust(width)"
   ]
  },
  {
   "cell_type": "code",
   "execution_count": 8,
   "metadata": {
    "colab": {
     "base_uri": "https://localhost:8080/",
     "height": 68
    },
    "colab_type": "code",
    "id": "nkRXM4BJG5tV",
    "outputId": "b0176671-25fe-4351-cc68-050741be9cf4",
    "scrolled": true
   },
   "outputs": [
    {
     "name": "stdout",
     "output_type": "stream",
     "text": [
      "acropolis, A computer science portal for acropolis.\n",
      "This article is written in Python\n",
      "Hello, I am 20 years old !\n"
     ]
    }
   ],
   "source": [
    "# Python3 program to demonstarte \n",
    "# the str.format() method \n",
    "  \n",
    "# using format option in a simple string \n",
    "print (\"{}, A computer science portal for acropolis.\"\n",
    "                        .format(\"acropolis\")) \n",
    "  \n",
    "# using format option for a \n",
    "# value stored in a variable \n",
    "str = \"This article is written in {}\"\n",
    "print (str.format(\"Python\")) \n",
    "  \n",
    "# formatting a string using a numeric constant \n",
    "print (\"Hello, I am {} years old !\".format(20))  "
   ]
  },
  {
   "cell_type": "code",
   "execution_count": 9,
   "metadata": {
    "colab": {
     "base_uri": "https://localhost:8080/",
     "height": 51
    },
    "colab_type": "code",
    "id": "m50gn_tsG5tb",
    "outputId": "483a7d6f-3606-410d-c618-f2a93e385d23"
   },
   "outputs": [
    {
     "name": "stdout",
     "output_type": "stream",
     "text": [
      "D\n",
      "68\n"
     ]
    }
   ],
   "source": [
    "# Characters and their ASCII value\n",
    "\n",
    "x=68\n",
    "# print character corresponding to x \n",
    "print(chr(x))\n",
    "char='D'\n",
    "# print number corresponding to char\n",
    "print(ord(char))"
   ]
  },
  {
   "cell_type": "code",
   "execution_count": 10,
   "metadata": {
    "colab": {
     "base_uri": "https://localhost:8080/",
     "height": 34
    },
    "colab_type": "code",
    "id": "b0mbEsRfG5tg",
    "outputId": "f0ef56f1-ed46-47f0-f2c6-671b1a5492f9"
   },
   "outputs": [
    {
     "name": "stdout",
     "output_type": "stream",
     "text": [
      "ACROPOLISACROPOLISACROPOLISACROPOLISACROPOLISACROPOLISACROPOLISACROPOLISACROPOLISACROPOLIS\n"
     ]
    }
   ],
   "source": [
    "# write code to print your name 10 times\n",
    "print('ACROPOLIS'*10)"
   ]
  },
  {
   "cell_type": "code",
   "execution_count": 11,
   "metadata": {
    "colab": {
     "base_uri": "https://localhost:8080/",
     "height": 204
    },
    "colab_type": "code",
    "id": "HQhqPPfaG5tl",
    "outputId": "5ee634a2-7fe9-4a69-b7fa-5e8037f2fd67"
   },
   "outputs": [
    {
     "name": "stdout",
     "output_type": "stream",
     "text": [
      "\n",
      "*\n",
      "**\n",
      "***\n",
      "****\n",
      "\n",
      "\n",
      "****\n",
      "***\n",
      "**\n",
      "*\n"
     ]
    }
   ],
   "source": [
    "for i in range(5):\n",
    "    print(\"*\"*i)\n",
    "\n",
    "# new pattern program\n",
    "print(\"\\n\")\n",
    "for i in range(4,0,-1):\n",
    "  print(\"*\"*i)    "
   ]
  },
  {
   "cell_type": "code",
   "execution_count": 12,
   "metadata": {
    "colab": {
     "base_uri": "https://localhost:8080/",
     "height": 102
    },
    "colab_type": "code",
    "id": "3-9RKU1psovu",
    "outputId": "ac22f3d3-db4d-4864-f888-88929173fc49"
   },
   "outputs": [
    {
     "name": "stdout",
     "output_type": "stream",
     "text": [
      "      *\n",
      "     **\n",
      "    ***\n",
      "   ****\n",
      "  *****\n"
     ]
    }
   ],
   "source": [
    "for i in range(1,6):\n",
    "  print(\" \"*(6-i),\"*\"*i) "
   ]
  },
  {
   "cell_type": "code",
   "execution_count": 13,
   "metadata": {
    "colab": {
     "base_uri": "https://localhost:8080/",
     "height": 34
    },
    "colab_type": "code",
    "id": "v5QAgvn8G5tp",
    "outputId": "f06f919f-8d4d-4321-8596-74585da71de3"
   },
   "outputs": [
    {
     "name": "stdout",
     "output_type": "stream",
     "text": [
      "10:20:30,"
     ]
    }
   ],
   "source": [
    "# use seperator and end with specific symbol\n",
    "a, b, c = 10, 20, 30\n",
    "print(a,b,c,sep=':',end=',')"
   ]
  },
  {
   "cell_type": "code",
   "execution_count": 14,
   "metadata": {
    "colab": {
     "base_uri": "https://localhost:8080/",
     "height": 85
    },
    "colab_type": "code",
    "id": "IxLqu9XZG5tt",
    "outputId": "1a2c1374-e2f6-46a5-a2dc-ca1d740ab91e"
   },
   "outputs": [
    {
     "name": "stdout",
     "output_type": "stream",
     "text": [
      "     *\n",
      "    **\n",
      "   ***\n",
      "  ****\n"
     ]
    }
   ],
   "source": [
    "for i in range(1,5):\n",
    "    print(\" \"*(5-i),\"*\"*i)"
   ]
  },
  {
   "cell_type": "markdown",
   "metadata": {
    "colab_type": "text",
    "id": "p29PsNILhUii"
   },
   "source": []
  },
  {
   "cell_type": "code",
   "execution_count": 15,
   "metadata": {
    "colab": {
     "base_uri": "https://localhost:8080/",
     "height": 34
    },
    "colab_type": "code",
    "id": "GFIBWQUtG5tx",
    "outputId": "c90b1237-53e7-43c3-a7cd-811d90a1ff2e"
   },
   "outputs": [
    {
     "name": "stdout",
     "output_type": "stream",
     "text": [
      "P Y T H O N G\n"
     ]
    }
   ],
   "source": [
    "# unpack characters\n",
    "word = 'PYTHONG'\n",
    "a,b,c,d,e,f,g = word\n",
    "print(a,b,c,d,e,f,g)"
   ]
  },
  {
   "cell_type": "markdown",
   "metadata": {
    "colab_type": "text",
    "id": "XOxjxinfG5t1"
   },
   "source": [
    "### Format output"
   ]
  },
  {
   "cell_type": "code",
   "execution_count": 16,
   "metadata": {
    "colab": {
     "base_uri": "https://localhost:8080/",
     "height": 34
    },
    "colab_type": "code",
    "id": "EJWEn5P4cfOd",
    "outputId": "2fb10e05-ca6d-4d1d-f687-b12fdedb1f07"
   },
   "outputs": [
    {
     "name": "stdout",
     "output_type": "stream",
     "text": [
      "The value of x is 5 and y is 10\n"
     ]
    }
   ],
   "source": [
    "x = 5 \n",
    "y = 10\n",
    "print('The value of x is {} and y is {}'.format(x,y))"
   ]
  },
  {
   "cell_type": "code",
   "execution_count": 17,
   "metadata": {
    "colab": {
     "base_uri": "https://localhost:8080/",
     "height": 34
    },
    "colab_type": "code",
    "id": "rohJ0RmQG5t6",
    "outputId": "4002f3af-11f3-4492-c2ac-9306fe17689a",
    "scrolled": true
   },
   "outputs": [
    {
     "name": "stdout",
     "output_type": "stream",
     "text": [
      "I like ice cream and chocolate\n"
     ]
    }
   ],
   "source": [
    "print('I like {0} and {1}'.format('ice cream','chocolate'))"
   ]
  },
  {
   "cell_type": "code",
   "execution_count": 18,
   "metadata": {
    "colab": {
     "base_uri": "https://localhost:8080/",
     "height": 34
    },
    "colab_type": "code",
    "id": "ePTsWKD2G5t-",
    "outputId": "1fa17fd6-b005-45b0-b429-227ac027435f",
    "scrolled": true
   },
   "outputs": [
    {
     "name": "stdout",
     "output_type": "stream",
     "text": [
      "I like chocolate and ice cream\n"
     ]
    }
   ],
   "source": [
    "print('I like {1} and {0}'.format('ice cream','chocolate'))"
   ]
  },
  {
   "cell_type": "code",
   "execution_count": 19,
   "metadata": {
    "colab": {
     "base_uri": "https://localhost:8080/",
     "height": 34
    },
    "colab_type": "code",
    "id": "MHagJ4n_G5uE",
    "outputId": "eec1d715-3e0f-45bf-924d-c49622e8274d",
    "scrolled": true
   },
   "outputs": [
    {
     "name": "stdout",
     "output_type": "stream",
     "text": [
      "Hello Sachin !, Good morning\n"
     ]
    }
   ],
   "source": [
    "print('Hello {name}, {greeting}'.format(greeting = 'Good morning', name = 'Sachin !'))"
   ]
  },
  {
   "cell_type": "markdown",
   "metadata": {
    "colab_type": "text",
    "id": "liwzGLgJG5uJ"
   },
   "source": [
    "### Task2\n",
    "#### Raman likes tea but he has coffee. Riya likes coffee but has tea. Write a program in python so that both can enjoy what they like."
   ]
  },
  {
   "cell_type": "code",
   "execution_count": 20,
   "metadata": {
    "colab": {
     "base_uri": "https://localhost:8080/",
     "height": 34
    },
    "colab_type": "code",
    "id": "KLT5upfKG5uK",
    "outputId": "86de5543-d1f2-455e-f539-a786f6f2b7c0"
   },
   "outputs": [
    {
     "name": "stdout",
     "output_type": "stream",
     "text": [
      "Raman likes Tea and Riya likes Coffe\n"
     ]
    }
   ],
   "source": [
    "# write your code after this line\n",
    "raman=\"Coffe\"\n",
    "riya=\"Tea\"\n",
    "raman,riya=riya,raman\n",
    "print(f\"Raman likes {raman} and Riya likes {riya}\")"
   ]
  },
  {
   "cell_type": "markdown",
   "metadata": {
    "colab_type": "text",
    "heading_collapsed": true,
    "id": "S2j-VmN9G5uN"
   },
   "source": [
    "### Task3\n",
    "Write a program for following\n",
    "- Input: 'Python'\n",
    "- Output: 642"
   ]
  },
  {
   "cell_type": "code",
   "execution_count": 21,
   "metadata": {
    "colab": {
     "base_uri": "https://localhost:8080/",
     "height": 34
    },
    "colab_type": "code",
    "hidden": true,
    "id": "VEgfNycFG5uO",
    "outputId": "f8269f95-3533-444d-a82a-99a06071e1a2"
   },
   "outputs": [
    {
     "name": "stdout",
     "output_type": "stream",
     "text": [
      "642\n"
     ]
    }
   ],
   "source": [
    "e,f,g,h,i,j='Python'\n",
    "s=ord(e)+ord(f)+ord(g)+ord(h)+ord(i)+ord(j)\n",
    "print(s)"
   ]
  },
  {
   "cell_type": "markdown",
   "metadata": {
    "colab_type": "text",
    "id": "DjUR0ktSG5uR"
   },
   "source": [
    "# Working with math, calendar, random, datetime"
   ]
  },
  {
   "cell_type": "code",
   "execution_count": 22,
   "metadata": {
    "colab": {
     "base_uri": "https://localhost:8080/",
     "height": 85
    },
    "colab_type": "code",
    "id": "y8UbqGZ1G5uS",
    "outputId": "e5dbba3a-de42-4863-df5e-4f06d5efdbfc"
   },
   "outputs": [
    {
     "name": "stdout",
     "output_type": "stream",
     "text": [
      "3.0\n",
      "10\n",
      "11\n"
     ]
    },
    {
     "data": {
      "text/plain": [
       "3.141592653589793"
      ]
     },
     "execution_count": 22,
     "metadata": {},
     "output_type": "execute_result"
    }
   ],
   "source": [
    "import math\n",
    "print(math.sqrt(9))\n",
    "print(math.floor(10.8))\n",
    "print (math.ceil(10.5))\n",
    "math.pi\n"
   ]
  },
  {
   "cell_type": "code",
   "execution_count": 23,
   "metadata": {
    "colab": {
     "base_uri": "https://localhost:8080/",
     "height": 51
    },
    "colab_type": "code",
    "id": "9Sofw03xG5uW",
    "outputId": "ba589677-2079-4fed-e8b4-16a2eb4ce91d"
   },
   "outputs": [
    {
     "name": "stdout",
     "output_type": "stream",
     "text": [
      "x =  0.39561609802099196\n",
      "y =  10\n"
     ]
    }
   ],
   "source": [
    "import random\n",
    "x = random.random() # generate any random number between 0 and 1\n",
    "print(\"x = \", x)\n",
    "\n",
    "y = random.randint(5,20)# generate any random number between 5 and 20\n",
    "print(\"y = \", y)"
   ]
  },
  {
   "cell_type": "code",
   "execution_count": 24,
   "metadata": {
    "colab": {
     "base_uri": "https://localhost:8080/",
     "height": 85
    },
    "colab_type": "code",
    "id": "zJhrO4MyG5uZ",
    "outputId": "e6d01906-1ac9-41d6-ac46-e7dc39e21c27"
   },
   "outputs": [
    {
     "name": "stdout",
     "output_type": "stream",
     "text": [
      "2020-02-01\n",
      "2020\n",
      "2\n",
      "1\n"
     ]
    }
   ],
   "source": [
    "import datetime\n",
    "\n",
    "date = datetime.datetime.now().date() # YYYY-MM-DD format\n",
    "year = datetime.datetime.now().year\n",
    "month = datetime.datetime.now().month\n",
    "day = datetime.datetime.now().day\n",
    "\n",
    "print(date)\n",
    "print(year)\n",
    "print(month)\n",
    "print(day)"
   ]
  },
  {
   "cell_type": "code",
   "execution_count": 25,
   "metadata": {
    "colab": {
     "base_uri": "https://localhost:8080/",
     "height": 187
    },
    "colab_type": "code",
    "id": "cq9pMSf4G5uc",
    "outputId": "a6692748-3a5f-4b7d-a176-6560e10a44da",
    "scrolled": false
   },
   "outputs": [
    {
     "name": "stdout",
     "output_type": "stream",
     "text": [
      "Enter Year : 200\n",
      "Enter the Month : 8\n",
      "     August 200\n",
      "Mo Tu We Th Fr Sa Su\n",
      "             1  2  3\n",
      " 4  5  6  7  8  9 10\n",
      "11 12 13 14 15 16 17\n",
      "18 19 20 21 22 23 24\n",
      "25 26 27 28 29 30 31\n",
      "\n"
     ]
    }
   ],
   "source": [
    "import calendar\n",
    "\n",
    "year = int(input(\"Enter Year : \"))\n",
    "month = int(input(\"Enter the Month : \"))\n",
    "\n",
    "print(calendar.month(year, month))"
   ]
  },
  {
   "cell_type": "code",
   "execution_count": null,
   "metadata": {
    "colab": {},
    "colab_type": "code",
    "id": "-nTzI58dwwq-"
   },
   "outputs": [],
   "source": []
  }
 ],
 "metadata": {
  "accelerator": "GPU",
  "colab": {
   "collapsed_sections": [],
   "name": "Python_Basics_2.ipynb",
   "provenance": []
  },
  "kernelspec": {
   "display_name": "Python 3",
   "language": "python",
   "name": "python3"
  },
  "language_info": {
   "codemirror_mode": {
    "name": "ipython",
    "version": 3
   },
   "file_extension": ".py",
   "mimetype": "text/x-python",
   "name": "python",
   "nbconvert_exporter": "python",
   "pygments_lexer": "ipython3",
   "version": "3.7.2"
  }
 },
 "nbformat": 4,
 "nbformat_minor": 1
}
