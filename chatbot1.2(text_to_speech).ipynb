{
 "cells": [
  {
   "cell_type": "code",
   "execution_count": 1,
   "metadata": {},
   "outputs": [],
   "source": [
    "from chatterbot import ChatBot\n",
    "from chatterbot.trainers import ListTrainer\n",
    "\n",
    "from tkinter import *\n",
    "from PIL import Image, ImageTk\n",
    "\n",
    "#importing pyttsx3 for text to speech response\n",
    "import pyttsx3 as pp\n",
    "\n"
   ]
  },
  {
   "cell_type": "code",
   "execution_count": 2,
   "metadata": {},
   "outputs": [
    {
     "name": "stdout",
     "output_type": "stream",
     "text": [
      "[<pyttsx3.voice.Voice object at 0x0000022F93C52710>, <pyttsx3.voice.Voice object at 0x0000022F938F9940>]\n"
     ]
    }
   ],
   "source": [
    "#initializing pyttsx3 engine\n",
    "\n",
    "engine =  pp.init()\n",
    "voice = engine.getProperty('voices')\n",
    "print(voice)\n",
    "\n",
    "#setting voice\n",
    "engine.setProperty('voice',voice[0].id)\n",
    "\n"
   ]
  },
  {
   "cell_type": "code",
   "execution_count": 3,
   "metadata": {},
   "outputs": [],
   "source": [
    "#speak function\n",
    "def speak(phrase):\n",
    "    engine.say(phrase)\n",
    "    engine.runAndWait()\n"
   ]
  },
  {
   "cell_type": "code",
   "execution_count": 4,
   "metadata": {},
   "outputs": [],
   "source": [
    "#enter should click button in GUI\n",
    "def enterf(event):\n",
    "    btn.invoke()"
   ]
  },
  {
   "cell_type": "code",
   "execution_count": 5,
   "metadata": {},
   "outputs": [],
   "source": [
    "#getting response in GUI and adding speak funcing\n",
    "\n",
    "def ask_from_bot():\n",
    "    query = textF.get()\n",
    "    response = bot.get_response(query)\n",
    "    msg.insert(END, \"you : \" + query)\n",
    "    msg.insert(END, \"bot : \" + str(response))\n",
    "    textF.delete(0,END)\n",
    "    msg.yview(END)\n",
    "    speak(response)    "
   ]
  },
  {
   "cell_type": "code",
   "execution_count": 6,
   "metadata": {},
   "outputs": [
    {
     "name": "stderr",
     "output_type": "stream",
     "text": [
      "[nltk_data] Error loading stopwords: <urlopen error [Errno 11001]\n",
      "[nltk_data]     getaddrinfo failed>\n",
      "[nltk_data] Error loading averaged_perceptron_tagger: <urlopen error\n",
      "[nltk_data]     [Errno 11001] getaddrinfo failed>\n"
     ]
    }
   ],
   "source": [
    "bot = ChatBot(\"test bot 1.2\")"
   ]
  },
  {
   "cell_type": "code",
   "execution_count": 20,
   "metadata": {},
   "outputs": [],
   "source": [
    "#training conversation\n",
    "convo = [\n",
    "    'hello',\n",
    "    'hi there !',\n",
    "    'how are you ?'\n",
    "    'what is your name ? ',\n",
    "    'i am chatbot trialversion1.2',\n",
    "    'how are you doing these days ?',\n",
    "    'how do you feel today ?',\n",
    "    'doing great thest days ! what about you ?',\n",
    "    'i am happy ',\n",
    "    'so am i !!',\n",
    "    'i am sad',\n",
    "    'why ? :(',\n",
    "    'nothing serious',\n",
    "    'okay',\n",
    "    ':)'\n",
    "    'whats your name',\n",
    "    'tell me a joke',\n",
    "    'no, i dont think i will :)',\n",
    "    'you like memes ?',\n",
    "    'yes i like memes',\n",
    "    'not really, but i love talking to people',\n",
    "    'what languages you know ?',\n",
    "    'not a lot, just english for now',\n",
    "    'are you good ?',\n",
    "    'yeah im doing great ! thanks for asking',\n",
    "    ':))',\n",
    "    'what kind of bot are you ?',\n",
    "    'can you answer my questions ?',\n",
    "    'not really, i am just the trial version',\n",
    "    'may be',\n",
    "    'Okay, cool',\n",
    "    'thank you !',\n",
    "    'cool', 'that is cool', 'where are you from ?', 'im from indore'\n",
    "    \n",
    "]"
   ]
  },
  {
   "cell_type": "code",
   "execution_count": 21,
   "metadata": {},
   "outputs": [],
   "source": [
    "trainer=ListTrainer(bot)\n"
   ]
  },
  {
   "cell_type": "code",
   "execution_count": 22,
   "metadata": {
    "scrolled": true
   },
   "outputs": [
    {
     "name": "stdout",
     "output_type": "stream",
     "text": [
      "List Trainer: [####################] 100%\n"
     ]
    }
   ],
   "source": [
    "#training the bot with conversation\n",
    "\n",
    "trainer.train(convo)\n"
   ]
  },
  {
   "cell_type": "code",
   "execution_count": 23,
   "metadata": {},
   "outputs": [
    {
     "name": "stderr",
     "output_type": "stream",
     "text": [
      "No value for search_text was available on the provided input\n"
     ]
    }
   ],
   "source": [
    "#GUI\n",
    "main = Tk()\n",
    "main.geometry(\"600x600\")\n",
    "main.title(\"chatbot trialV1.2\")\n",
    "img = Image.open(\"C:/Users/pc.DESKTOP-TCTT2K6/Desktop/ML/FF10_animated.gif\")\n",
    "ph = ImageTk.PhotoImage(img)\n",
    "label = Label(main, image = ph)\n",
    "label.image=ph\n",
    "label.pack(pady=5)\n",
    "\n",
    "#text field\n",
    "textF = Entry(main, font=(\"Verdana\", 8))\n",
    "textF.pack(fill=X,pady=10)\n",
    "\n",
    "#ask button\n",
    "btn = Button(main,text=\"ask from bot\", font=(\"Verdana\", 8), command = ask_from_bot)\n",
    "btn.pack()\n",
    "\n",
    "#display frame\n",
    "frame=Frame(main)\n",
    "sc=Scrollbar(frame)\n",
    "msg=Listbox(frame,width=80,height=20, yscrollcommand =sc.set)\n",
    "sc.pack(side=RIGHT, fill=Y)\n",
    "msg.pack(side=LEFT,fill=BOTH,pady=10)\n",
    "frame.pack()\n",
    "\n",
    "#binding main window with enter key\n",
    "main.bind('<Return>', enterf)\n",
    "\n",
    "main.mainloop()"
   ]
  },
  {
   "cell_type": "code",
   "execution_count": 11,
   "metadata": {},
   "outputs": [],
   "source": [
    "#pip install pyttsx3"
   ]
  }
 ],
 "metadata": {
  "kernelspec": {
   "display_name": "Python 3",
   "language": "python",
   "name": "python3"
  },
  "language_info": {
   "codemirror_mode": {
    "name": "ipython",
    "version": 3
   },
   "file_extension": ".py",
   "mimetype": "text/x-python",
   "name": "python",
   "nbconvert_exporter": "python",
   "pygments_lexer": "ipython3",
   "version": "3.7.2"
  }
 },
 "nbformat": 4,
 "nbformat_minor": 4
}
