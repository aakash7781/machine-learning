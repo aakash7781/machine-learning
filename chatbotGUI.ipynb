{
 "cells": [
  {
   "cell_type": "code",
   "execution_count": 1,
   "metadata": {},
   "outputs": [],
   "source": [
    "from chatterbot import ChatBot\n",
    "from chatterbot.trainers import ListTrainer\n",
    "\n",
    "from tkinter import *\n",
    "from PIL import Image, ImageTk"
   ]
  },
  {
   "cell_type": "code",
   "execution_count": 2,
   "metadata": {},
   "outputs": [],
   "source": [
    "#getting response in GUI\n",
    "def ask_from_bot():\n",
    "    query = textF.get()\n",
    "    response = bot.get_response(query)\n",
    "    msg.insert(END, \"you : \" + query)\n",
    "    msg.insert(END, \"bot : \" + str(response))\n",
    "    textF.delete(0,END)\n",
    "    "
   ]
  },
  {
   "cell_type": "code",
   "execution_count": 3,
   "metadata": {},
   "outputs": [
    {
     "name": "stderr",
     "output_type": "stream",
     "text": [
      "[nltk_data] Error loading stopwords: <urlopen error [Errno 11001]\n",
      "[nltk_data]     getaddrinfo failed>\n",
      "[nltk_data] Error loading averaged_perceptron_tagger: <urlopen error\n",
      "[nltk_data]     [Errno 11001] getaddrinfo failed>\n"
     ]
    }
   ],
   "source": [
    "bot = ChatBot(\"test bot 1.0\")"
   ]
  },
  {
   "cell_type": "code",
   "execution_count": 4,
   "metadata": {},
   "outputs": [],
   "source": [
    "#training conversation\n",
    "convo = [\n",
    "    'hello',\n",
    "    'hi there !',\n",
    "    'how are you ?'\n",
    "    'what is your name ? ',\n",
    "    'i am chatbot 1.1',\n",
    "    'who are you ?',\n",
    "    'doing great thest days ! what about you ?',\n",
    "    'i am happy ',\n",
    "    'so am i !!',\n",
    "    'i am sad',\n",
    "    'why ? :(',\n",
    "    'nothing',\n",
    "    'okay',\n",
    "    ':)'\n",
    "    'whats your name',\n",
    "    'tell me a joke',\n",
    "    'no, i dont think i will :)',\n",
    "    'you like memes ?',\n",
    "    'yes',\n",
    "    'not really',\n",
    "    'what languages you know ?',\n",
    "    'not a lot, just english for now',\n",
    "    'are you good ?',\n",
    "    'ughh',\n",
    "    'awkward',\n",
    "    ':))',\n",
    "    'are you done ?',\n",
    "    'will robots some day take over humans ?',\n",
    "    'not really',\n",
    "    'may be',\n",
    "    'chal hat',\n",
    "    'abe saale',\n",
    "    'Okay, cool',\n",
    "    'thank you !',\n",
    "    'cool', 'that is cool', 'where are you from ?', 'im from indore'\n",
    "    \n",
    "]"
   ]
  },
  {
   "cell_type": "code",
   "execution_count": 5,
   "metadata": {},
   "outputs": [],
   "source": [
    "trainer=ListTrainer(bot)"
   ]
  },
  {
   "cell_type": "code",
   "execution_count": 6,
   "metadata": {},
   "outputs": [
    {
     "name": "stdout",
     "output_type": "stream",
     "text": [
      "List Trainer: [####################] 100%\n"
     ]
    }
   ],
   "source": [
    "#training the bot with 'trainer'\n",
    "trainer.train(convo)"
   ]
  },
  {
   "cell_type": "code",
   "execution_count": null,
   "metadata": {},
   "outputs": [],
   "source": [
    "#GUI\n",
    "main = Tk()\n",
    "main.geometry(\"600x600\")\n",
    "main.title(\"chatbot\")\n",
    "img = Image.open(\"C:/Users/pc.DESKTOP-TCTT2K6/Desktop/ML/FF10_animated.gif\")\n",
    "ph = ImageTk.PhotoImage(img)\n",
    "label = Label(main, image = ph)\n",
    "label.image=ph\n",
    "label.pack(pady=5)\n",
    "\n",
    "#text field\n",
    "textF = Entry(main, font=(\"Verdana\", 8))\n",
    "textF.pack(fill=X,pady=10)\n",
    "\n",
    "#ask button\n",
    "btn = Button(main,text=\"ask from bot\", font=(\"Verdana\", 8), command = ask_from_bot)\n",
    "btn.pack()\n",
    "\n",
    "#display message\n",
    "frame=Frame(main)\n",
    "sc=Scrollbar(frame)\n",
    "msg=Listbox(frame,width=80,height=20)\n",
    "sc.pack(side=RIGHT, fill=Y)\n",
    "msg.pack(side=LEFT,fill=BOTH,pady=10)\n",
    "frame.pack()\n",
    "\n",
    "\n",
    "\n",
    "main.mainloop()"
   ]
  },
  {
   "cell_type": "code",
   "execution_count": null,
   "metadata": {},
   "outputs": [],
   "source": []
  }
 ],
 "metadata": {
  "kernelspec": {
   "display_name": "Python 3",
   "language": "python",
   "name": "python3"
  },
  "language_info": {
   "codemirror_mode": {
    "name": "ipython",
    "version": 3
   },
   "file_extension": ".py",
   "mimetype": "text/x-python",
   "name": "python",
   "nbconvert_exporter": "python",
   "pygments_lexer": "ipython3",
   "version": "3.7.2"
  }
 },
 "nbformat": 4,
 "nbformat_minor": 4
}
