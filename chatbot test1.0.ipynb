{
 "cells": [
  {
   "cell_type": "code",
   "execution_count": 1,
   "metadata": {},
   "outputs": [],
   "source": [
    "from chatterbot import ChatBot\n",
    "from chatterbot.trainers import ListTrainer"
   ]
  },
  {
   "cell_type": "code",
   "execution_count": 2,
   "metadata": {},
   "outputs": [
    {
     "name": "stderr",
     "output_type": "stream",
     "text": [
      "[nltk_data] Error loading averaged_perceptron_tagger: <urlopen error\n",
      "[nltk_data]     [Errno 11001] getaddrinfo failed>\n",
      "[nltk_data] Error loading stopwords: <urlopen error [Errno 11001]\n",
      "[nltk_data]     getaddrinfo failed>\n"
     ]
    }
   ],
   "source": [
    "bot = ChatBot(\"test bot 1.0\")"
   ]
  },
  {
   "cell_type": "code",
   "execution_count": 3,
   "metadata": {},
   "outputs": [],
   "source": [
    "convo = [\n",
    "    'hello',\n",
    "    'hi there !',\n",
    "    'how are you ?'\n",
    "    'what is your name ? ',\n",
    "    'i am test bot 1.0 by Aakash',\n",
    "    'who are you ?',\n",
    "    'doing great thest days ! what about you ?',\n",
    "    'i am happy ',\n",
    "    'so am i !!',\n",
    "    'i am sad',\n",
    "    'why ? :(',\n",
    "    'nothing',\n",
    "    'okay',\n",
    "    ':)'\n",
    "    'whats your name',\n",
    "    'tell me a joke',\n",
    "    'no, i dont think i will :)',\n",
    "    'you like memes ?',\n",
    "    'yes',\n",
    "    'not really',\n",
    "    'what languages you know ?',\n",
    "    'not a lot, just english for now',\n",
    "    'are you good ?',\n",
    "    ' ',\n",
    "    'ughh',\n",
    "    'awkward',\n",
    "    'ah i see youre a man of culture as well :))',\n",
    "    'are you done ?',\n",
    "    'will robots some day take over humans ?',\n",
    "    'not really',\n",
    "    'may be',\n",
    "    'chal hat',\n",
    "    'abe saale',\n",
    "    'Okay, cool',\n",
    "    'thank you !',\n",
    "    'cool', 'that is cool', 'where are you from ?', 'im from indore'\n",
    "    \n",
    "]"
   ]
  },
  {
   "cell_type": "code",
   "execution_count": 4,
   "metadata": {},
   "outputs": [],
   "source": [
    "trainer=ListTrainer(bot)"
   ]
  },
  {
   "cell_type": "code",
   "execution_count": 5,
   "metadata": {},
   "outputs": [
    {
     "name": "stdout",
     "output_type": "stream",
     "text": [
      "List Trainer: [####################] 100%\n"
     ]
    }
   ],
   "source": [
    "#training the bot with 'trainer'\n",
    "trainer.train(convo)"
   ]
  },
  {
   "cell_type": "code",
   "execution_count": null,
   "metadata": {},
   "outputs": [
    {
     "name": "stdout",
     "output_type": "stream",
     "text": [
      "talk to the bot\n",
      "hello\n",
      "bot :  hi there !\n",
      "what is your name\n",
      "bot :  i am test bot 1.0 by Aakash\n",
      "how are oyu ?\n",
      "bot :  why ? :(\n",
      "how are you ?\n",
      "bot :  doing great thest days ! what about you ?\n",
      "im happy !\n",
      "bot :  ah i see youre a man of culture as well :))\n",
      "haha you like memes ?\n",
      "bot :  not really\n",
      "okay :/\n",
      "bot :  happy\n",
      "umm ?\n",
      "bot :  haha you like memes ?\n",
      "yes i do !\n",
      "bot :  that is cool\n",
      "thanks :)\n",
      "bot :  anything else ?\n",
      "not really\n",
      "bot :  what languages you know ?\n",
      "not much english and hindi\n",
      "bot :  k\n",
      "where are you from ?\n",
      "bot :  nowhere\n",
      "okay :/\n",
      "bot :  what\n",
      "nothing, tell me a joke\n",
      "bot :  one is talking to me right now lol\n",
      "damn boi thats rude\n",
      "bot :  hi there !\n",
      "no, bye there\n",
      "bot :  chal hat\n"
     ]
    }
   ],
   "source": [
    "#talk test\n",
    "print(\"talk to the bot\")\n",
    "while True:\n",
    "    query=input()\n",
    "    if query=='exit':\n",
    "        break\n",
    "    response = bot.get_response(query)\n",
    "    print(\"bot : \",response)"
   ]
  },
  {
   "cell_type": "code",
   "execution_count": null,
   "metadata": {},
   "outputs": [],
   "source": []
  }
 ],
 "metadata": {
  "kernelspec": {
   "display_name": "Python 3",
   "language": "python",
   "name": "python3"
  },
  "language_info": {
   "codemirror_mode": {
    "name": "ipython",
    "version": 3
   },
   "file_extension": ".py",
   "mimetype": "text/x-python",
   "name": "python",
   "nbconvert_exporter": "python",
   "pygments_lexer": "ipython3",
   "version": "3.7.2"
  }
 },
 "nbformat": 4,
 "nbformat_minor": 4
}
