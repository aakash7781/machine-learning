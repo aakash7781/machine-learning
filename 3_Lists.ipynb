{
 "cells": [
  {
   "cell_type": "markdown",
   "metadata": {
    "colab_type": "text",
    "id": "view-in-github"
   },
   "source": [
    "<a href=\"https://colab.research.google.com/github/akashj0070/Machine-Learning-Lab-CS-1-Acropolis/blob/master/3_Lists.ipynb\" target=\"_parent\"><img src=\"https://colab.research.google.com/assets/colab-badge.svg\" alt=\"Open In Colab\"/></a>"
   ]
  },
  {
   "cell_type": "markdown",
   "metadata": {
    "colab_type": "text",
    "id": "CE9kazKvuEql"
   },
   "source": [
    "# Lists"
   ]
  },
  {
   "cell_type": "markdown",
   "metadata": {
    "colab_type": "text",
    "id": "mCoueiuRuEqn"
   },
   "source": [
    "## Lists\n",
    "- A list is a collection of items, that is stored in a variable. \n",
    "- The items should be related in some way, but there are no restrictions on what can be stored in a list."
   ]
  },
  {
   "cell_type": "markdown",
   "metadata": {
    "colab_type": "text",
    "id": "WMc00i-BuEqo"
   },
   "source": [
    "### Syntax\n",
    "list-name = [list of comma seperated values]"
   ]
  },
  {
   "cell_type": "markdown",
   "metadata": {
    "colab_type": "text",
    "id": "UVTNupfFuEqq"
   },
   "source": [
    "### Slicing with list\n",
    "\n",
    "index start with 0\n",
    "\n",
    " listname[index_number]\n",
    "\n",
    " listname[start_index:end_index]\n",
    "\n",
    " listname[:end_index]\n",
    "\n",
    " listname[start_index:]\n",
    "\n",
    "\n",
    "negative index: \n",
    " listname[:-index] \n",
    "\n",
    "\n",
    "### list methods\n",
    "- append()\n",
    "- len()\n",
    "- insert(index,value)\n",
    "- sort()\n",
    "- reverse()\n",
    "- pop(), pop(index)\n",
    "- min(), max(), sum()\n",
    "\n",
    "\n",
    "We can change the contents of the lists after its creation\n",
    "\n",
    "listname[index]=newvalue"
   ]
  },
  {
   "cell_type": "markdown",
   "metadata": {
    "colab_type": "text",
    "id": "zMEfQRFauEqr"
   },
   "source": [
    "#### Task 1: Run below code and try to make some changes to the code"
   ]
  },
  {
   "cell_type": "code",
   "execution_count": 1,
   "metadata": {
    "colab": {},
    "colab_type": "code",
    "id": "-un7NuvzuEqs"
   },
   "outputs": [
    {
     "name": "stdout",
     "output_type": "stream",
     "text": [
      "['India', 'newzealand', 'USA']\n",
      "Value at 0 index:  India\n",
      "New value at index 0:  Japan\n"
     ]
    }
   ],
   "source": [
    "# list creation\n",
    "countries = ['India', 'newzealand', 'USA']\n",
    "\n",
    "# print whole list\n",
    "print(countries)\n",
    "\n",
    "# Accessing list elements\n",
    "print(\"Value at 0 index: \",countries[0])\n",
    "\n",
    "# assignning new value to index\n",
    "countries[0]='Japan'\n",
    "\n",
    "print(\"New value at index 0: \",countries[0])"
   ]
  },
  {
   "cell_type": "markdown",
   "metadata": {
    "colab_type": "text",
    "id": "dilg5WVYuEqx"
   },
   "source": [
    "### Iterating lists"
   ]
  },
  {
   "cell_type": "markdown",
   "metadata": {
    "colab_type": "text",
    "id": "81ryE-rZuEqz"
   },
   "source": [
    "#### Task 2: Run below code and try to make some changes to the code"
   ]
  },
  {
   "cell_type": "code",
   "execution_count": 2,
   "metadata": {
    "colab": {},
    "colab_type": "code",
    "id": "E4fLjOaZuEq0",
    "scrolled": true
   },
   "outputs": [
    {
     "name": "stdout",
     "output_type": "stream",
     "text": [
      "['My name is arif', 'I am in', 6, 'Semester']\n",
      "My name is arif\n",
      "I am in\n",
      "6\n",
      "Semester\n"
     ]
    }
   ],
   "source": [
    "\n",
    "hybridlists=['My name is arif',\n",
    "             'I am in',\n",
    "             6,\n",
    "             'Semester']\n",
    "\n",
    "print(hybridlists)\n",
    "\n",
    "# we can access the elements of list using loops\n",
    "\n",
    "for item in hybridlists:\n",
    "    print(item)"
   ]
  },
  {
   "cell_type": "markdown",
   "metadata": {
    "colab_type": "text",
    "id": "AfzGa6PXuEq4"
   },
   "source": [
    "#### Task 3: Run below code and try to make some changes to the code"
   ]
  },
  {
   "cell_type": "code",
   "execution_count": 3,
   "metadata": {
    "colab": {},
    "colab_type": "code",
    "id": "uJy7ziaduEq5",
    "scrolled": false
   },
   "outputs": [
    {
     "name": "stdout",
     "output_type": "stream",
     "text": [
      "Index: 0, Value: India\n",
      "Index: 1, Value: Newzealand\n",
      "Index: 2, Value: Usa\n",
      "\n",
      " Index of India is:  0\n"
     ]
    }
   ],
   "source": [
    "# print the index number with value\n",
    "\n",
    "countries = ['India', 'newzealand', 'USA']\n",
    "\n",
    "for index, country in enumerate(countries):\n",
    "    place = str(index)\n",
    "    print(\"Index: \" + place + \", Value: \" + country.title())\n",
    "    \n",
    "# find index of\n",
    "index = countries.index('India') \n",
    "print(\"\\n Index of India is: \",index)"
   ]
  },
  {
   "cell_type": "markdown",
   "metadata": {
    "colab_type": "text",
    "id": "MC3q0utGuEq9"
   },
   "source": [
    "#### Task 4: Run below code and try to make some changes to the code"
   ]
  },
  {
   "cell_type": "code",
   "execution_count": 4,
   "metadata": {
    "colab": {},
    "colab_type": "code",
    "id": "1ydARtKLuEq-"
   },
   "outputs": [
    {
     "name": "stdout",
     "output_type": "stream",
     "text": [
      "['India', 'newzealand']\n"
     ]
    }
   ],
   "source": [
    "# Remove the last country from the list by index or by value\n",
    "del countries[2]\n",
    "\n",
    "print(countries)"
   ]
  },
  {
   "cell_type": "markdown",
   "metadata": {
    "colab_type": "text",
    "id": "CqZJZ-ZLuErC"
   },
   "source": [
    "### List comprehension (with for loop)"
   ]
  },
  {
   "cell_type": "markdown",
   "metadata": {
    "colab_type": "text",
    "id": "BRObLUlIuErD"
   },
   "source": [
    "#### Task 5: Run below code and try to make some changes to the code"
   ]
  },
  {
   "cell_type": "code",
   "execution_count": 5,
   "metadata": {
    "colab": {},
    "colab_type": "code",
    "id": "-NskuVdeuErE"
   },
   "outputs": [
    {
     "name": "stdout",
     "output_type": "stream",
     "text": [
      "[1, 8, 27, 64, 125, 216, 343]\n"
     ]
    }
   ],
   "source": [
    "# without comprehension\n",
    "\n",
    "cubes = []\n",
    "for x in [1, 2, 3, 4, 5,6,7]:\n",
    "    cubes.append(x ** 3) \n",
    "    \n",
    "print(cubes)"
   ]
  },
  {
   "cell_type": "code",
   "execution_count": 6,
   "metadata": {
    "colab": {},
    "colab_type": "code",
    "id": "0tnCvfgFuErJ"
   },
   "outputs": [
    {
     "name": "stdout",
     "output_type": "stream",
     "text": [
      "[1, 8, 27, 64, 125, 216, 343]\n"
     ]
    }
   ],
   "source": [
    "# with comprehension\n",
    "  \n",
    "cubes= [x**3 for x in [1, 2, 3, 4, 5,6,7]]\n",
    "print(cubes)"
   ]
  },
  {
   "cell_type": "code",
   "execution_count": 7,
   "metadata": {
    "colab": {},
    "colab_type": "code",
    "id": "rpw76uDVuErO"
   },
   "outputs": [
    {
     "data": {
      "text/plain": [
       "[1, 2, 3, 4, 5, 6, 7, 8, 9, 10, 11]"
      ]
     },
     "execution_count": 7,
     "metadata": {},
     "output_type": "execute_result"
    }
   ],
   "source": [
    "numbers=[1,2,3,4,5,6,7,8,9,10,11]\n",
    "list=[x for x in numbers]\n",
    "list"
   ]
  },
  {
   "cell_type": "markdown",
   "metadata": {
    "colab_type": "text",
    "id": "ZAqkJUWMuErU"
   },
   "source": [
    "#### Program 1: Write a python program which does the following\n",
    "- Make a list that includes four job types , such as 'programmer', 'truck driver' and so on\n",
    "- Use the *list.index()* function to find the index of one job type in your list.\n",
    "- Use the *in* function to show that this job type is in your list.\n",
    "- Use the *append()* function to add a new job type to your list.\n",
    "- Use the *insert()* function to add a new job type \"Python Programmer\" at the beginning of the list.\n",
    "- Use a loop to show all the job types in your list."
   ]
  },
  {
   "cell_type": "markdown",
   "metadata": {
    "colab_type": "text",
    "id": "-BfTr0PE10fb"
   },
   "source": []
  },
  {
   "cell_type": "code",
   "execution_count": 8,
   "metadata": {
    "colab": {},
    "colab_type": "code",
    "id": "RZPxGiH0uErW"
   },
   "outputs": [
    {
     "name": "stdout",
     "output_type": "stream",
     "text": [
      "3\n",
      "Present\n",
      "Engineer\n",
      "Doctor\n",
      "Driver\n",
      "Farmer\n",
      "Officer\n",
      "Python Programmer\n"
     ]
    }
   ],
   "source": [
    "# start writing your code after this line\n",
    "lis=[\"Engineer\",\"Doctor\",\"Driver\",\"Farmer\"]\n",
    "print(lis.index(\"Farmer\"))\n",
    "if \"Farmer\" in lis:\n",
    "    print(\"Present\")\n",
    "else:\n",
    "    print(\"Not present\")\n",
    "lis.append(\"Officer\")\n",
    "lis.insert(5,\"Python Programmer\")\n",
    "for i in lis:\n",
    "    print(i)\n",
    "\n",
    "\n"
   ]
  },
  {
   "cell_type": "markdown",
   "metadata": {
    "colab_type": "text",
    "id": "s9_VCnkJuEra"
   },
   "source": [
    "#### Problem 2: Write a python program for following\n",
    "\n",
    "- Make a list that includes the names of five famous people.\n",
    "- Remove each person from the list, one at a time, using the four methods given below:\n",
    "    - Del item from the list by del: del listname[index]\n",
    "    - Remove the item from the list by remove method: listname.remove('itemname')\n",
    "    - Using pop() method, It removes the last item from the list: listname.pop() \n",
    "    - Pop any item from the list by index: listname: listname.pop(index)\n",
    "- Print out a message that there are no famous people left in your list, and print your list to prove that it is empty."
   ]
  },
  {
   "cell_type": "code",
   "execution_count": 9,
   "metadata": {
    "colab": {},
    "colab_type": "code",
    "id": "3Cf_mbehuErb"
   },
   "outputs": [
    {
     "name": "stdout",
     "output_type": "stream",
     "text": [
      "['RDJ', 'Akshay', 'Chris', 'AbdulKalam', 'ModiJi']\n",
      "[]\n"
     ]
    }
   ],
   "source": [
    "# start writing your code after this line\n",
    "fam=[\"RDJ\",\"Akshay\",\"Chris\",\"AbdulKalam\",\"ModiJi\"]\n",
    "print(fam)\n",
    "del fam[0]\n",
    "fam.remove(\"ModiJi\")\n",
    "fam.pop()\n",
    "fam.pop(1)\n",
    "fam.pop(0)\n",
    "print(fam)\n",
    "\n"
   ]
  },
  {
   "cell_type": "markdown",
   "metadata": {
    "colab_type": "text",
    "id": "GSsWG_cGuErf"
   },
   "source": [
    "#### Program 3: Write a python program which does the following\n",
    "\n",
    "- Store the first ten letters of the alphabet in a list.\n",
    "- Use a slice to print out the first three letters of the alphabet.\n",
    "- Use a slice to print out any three letters from the middle of your list.\n",
    "- Use a slice to print out the letters from any point in the middle of your list, to the end.\n"
   ]
  },
  {
   "cell_type": "code",
   "execution_count": 10,
   "metadata": {
    "colab": {},
    "colab_type": "code",
    "id": "tmrnWq_YuErg"
   },
   "outputs": [
    {
     "name": "stdout",
     "output_type": "stream",
     "text": [
      "abc\n",
      "dfh\n",
      "defghi\n"
     ]
    }
   ],
   "source": [
    "# start writing your code after this line\n",
    "alphabets=['a','b','c','d','e','f','g','h','i','j']\n",
    "let='abcdefghij'\n",
    "obj=slice(3)\n",
    "print(let[obj])\n",
    "obj=slice(3,9,2)\n",
    "print(let[obj])\n",
    "obj=slice(3,-1,1)\n",
    "print(let[obj])\n"
   ]
  },
  {
   "cell_type": "markdown",
   "metadata": {
    "colab_type": "text",
    "id": "NWe_XtTXuErk"
   },
   "source": [
    "#### Program 4: Write a python program for following\n",
    "\n",
    "- Your goal in this exercise is to prove that copying a list protects the original list.\n",
    "- Make a list with three people's names in it.\n",
    "- Use a slice to make a copy of the entire list.\n",
    "- Add at least two new names to the new copy of the list.\n",
    "- Make a loop that prints out all of the names in the original list, along with a message that this is the original list.\n",
    "- Make a loop that prints out all of the names in the copied list, along with a message that this is the copied list."
   ]
  },
  {
   "cell_type": "code",
   "execution_count": 11,
   "metadata": {
    "colab": {},
    "colab_type": "code",
    "id": "mz_cmNDjuErm"
   },
   "outputs": [
    {
     "name": "stdout",
     "output_type": "stream",
     "text": [
      "Original List\n",
      "Dr. Vipul Mishra\n",
      "Dr. Shivani Goel\n",
      "Dr. Gauran Singal\n",
      "\n",
      "This is the copied list\n",
      "Dr. Vipul Mishra\n",
      "Dr. Shivani Goel\n",
      "Dr. Gauran Singal\n",
      "Dr. Samayveer Singh\n",
      "Dr. Madhushi Verma\n"
     ]
    }
   ],
   "source": [
    "people=['Dr. Vipul Mishra', 'Dr. Shivani Goel', 'Dr. Gauran Singal']\n",
    "copied=people[:]\n",
    "\n",
    "copied.append('Dr. Samayveer Singh')\n",
    "copied.append('Dr. Madhushi Verma')\n",
    "\n",
    "print(\"Original List\")\n",
    "for items in people:\n",
    "    print(items)\n",
    "\n",
    "print(\"\\nThis is the copied list\")\n",
    "for items in copied:\n",
    "    print(items)\n"
   ]
  },
  {
   "cell_type": "markdown",
   "metadata": {
    "colab_type": "text",
    "id": "whk0o2dAuErs"
   },
   "source": [
    "#### Program 5: Write a python program for following\n",
    "\n",
    "- Create a list to store the marks of top 15 students obtained by the students in Python Quiz held on 21/08/2018. Maximum marks=15\n",
    "- Print the maximum marks obtained by the student from the list.\n",
    "- Print the minimum marks obtained by the student.\n",
    "- Find the sum of all the marks.\n",
    "- Find the average of the marks.\n",
    "- Reverse the original list and display using for loop.\n"
   ]
  },
  {
   "cell_type": "code",
   "execution_count": 12,
   "metadata": {
    "colab": {},
    "colab_type": "code",
    "id": "xpZzhZcSuEru"
   },
   "outputs": [
    {
     "name": "stdout",
     "output_type": "stream",
     "text": [
      "13\n",
      "2\n",
      "95.5\n",
      "6.366666666666666\n",
      "[13, 6, 5, 4, 2, 11, 9, 8, 7, 6, 5, 4, 3, 4.5, 8]\n"
     ]
    }
   ],
   "source": [
    "marks=[8,4.5,3,4,5,6,7,8,9,11,2,4,5,6,13]\n",
    "print(max(marks))\n",
    "print(min(marks))\n",
    "print(sum(marks))\n",
    "print(sum(marks)/15)\n",
    "def revers(lis):\n",
    "    lis.reverse()\n",
    "    return lis\n",
    "print(revers(marks))\n",
    "\n"
   ]
  },
  {
   "cell_type": "markdown",
   "metadata": {
    "colab_type": "text",
    "id": "frM5O8tHuEry"
   },
   "source": [
    "#### Program 6: Write a program in Python to create a list which contains n integers entered by the user and delete all odd numbers from the list. Example: If initial contents of the list is=[1,2,3,4,5,6,7,8,9,10], the output would be=[2,4,6,8,10]."
   ]
  },
  {
   "cell_type": "code",
   "execution_count": 13,
   "metadata": {
    "colab": {},
    "colab_type": "code",
    "id": "alv_kdUouErz"
   },
   "outputs": [
    {
     "name": "stdout",
     "output_type": "stream",
     "text": [
      "1\n",
      "2\n",
      "3\n",
      "4\n",
      "5\n",
      "6\n",
      "7\n",
      "8\n",
      "9\n",
      "10\n",
      "\n",
      " List after deleting all odd numbers\n",
      "\n",
      "[2, 4, 6, 8, 10]\n"
     ]
    }
   ],
   "source": [
    "# write your code after this line\n",
    "l=[]\n",
    "#read an add items to list\n",
    "for i in range(10):\n",
    "  a=int(input())\n",
    "  l.append(a)\n",
    "# remove odd numbers \n",
    "for item in l:\n",
    "    if item%2!=0:\n",
    "        l.remove(item)\n",
    "print(\"\\n List after deleting all odd numbers\\n\")\n",
    "print(l)"
   ]
  },
  {
   "cell_type": "markdown",
   "metadata": {
    "colab_type": "text",
    "id": "-eh87vCguEr5"
   },
   "source": [
    "## Optional Questions"
   ]
  },
  {
   "cell_type": "markdown",
   "metadata": {
    "colab_type": "text",
    "id": "JDKd4_PEuEr6"
   },
   "source": [
    "#### Program 7: Write a python program for following.\n",
    "- Create an initial empty list named \"countries\" \n",
    "- Read the names of n countries from the user and add them to country list:\n",
    "- Use for loop to display all the names of the countries from the list and add \"is Great\" after the country name if it is \"India\""
   ]
  },
  {
   "cell_type": "code",
   "execution_count": 14,
   "metadata": {
    "colab": {},
    "colab_type": "code",
    "id": "nEMwkoKmuEr7"
   },
   "outputs": [
    {
     "name": "stdout",
     "output_type": "stream",
     "text": [
      "Enter a country nameindia\n",
      "Enter a country nameafrica\n",
      "Enter a country namechina\n",
      "Enter a country nameindonesia\n",
      "Enter a country nameamerica\n",
      "Enter a country namefrance\n",
      "Enter a country namerussia\n",
      "Enter a country nameIndia\n",
      "Enter a country name0\n",
      "india is great\n",
      "africa\n",
      "china\n",
      "indonesia\n",
      "america\n",
      "france\n",
      "russia\n",
      "India is great\n",
      "0\n"
     ]
    }
   ],
   "source": [
    "# write code after this line\n",
    "cnt=[]\n",
    "a=''\n",
    "while(a!='0'):\n",
    "    a=input(\"Enter a country name\")\n",
    "    cnt.append(a)\n",
    "for i in cnt:\n",
    "    if i=='india' or i=='India' or i=='INDIA':\n",
    "        print(f\"{i} is great\")\n",
    "    else: print(i)\n"
   ]
  },
  {
   "cell_type": "markdown",
   "metadata": {
    "colab_type": "text",
    "id": "bHtQiQ55uEr_"
   },
   "source": [
    "### Program 8: Write a Python program to find the list in a list of lists whose sum of elements is the highest.\n",
    "Sample lists: [[1,2,3], [4,5,6], [10,11,12], [7,8,9]]\n",
    "Expected Output: [10, 11, 12]"
   ]
  },
  {
   "cell_type": "code",
   "execution_count": 15,
   "metadata": {
    "colab": {},
    "colab_type": "code",
    "id": "Kph_EFQ9uEsB"
   },
   "outputs": [
    {
     "name": "stdout",
     "output_type": "stream",
     "text": [
      "Sum of the list 0 elements =:  6\n",
      "Sum of the list 1 elements =:  15\n",
      "Sum of the list 2 elements =:  33\n",
      "Sum of the list 3 elements =:  24\n",
      "Maximum sum= 33\n",
      "list having maximum sum:\n",
      "[10, 11, 12]\n"
     ]
    }
   ],
   "source": [
    "l= [[1,2,3], [4,5,6], [10,11,12], [7,8,9]] \n",
    "sumlist=[]\n",
    "i=0\n",
    "for sublist in l:\n",
    "    maxsum=0\n",
    "    sum=0\n",
    "    for item in sublist:\n",
    "        sum=sum+item\n",
    "    print(\"Sum of the list\",i,\"elements =: \",sum)\n",
    "    sumlist.append(sum)\n",
    "    i+=1\n",
    "\n",
    "maxsum=max(sumlist)\n",
    "print(\"Maximum sum=\",maxsum)\n",
    "index=sumlist.index(maxsum)\n",
    "print(\"list having maximum sum:\")\n",
    "print(l[index])"
   ]
  },
  {
   "cell_type": "code",
   "execution_count": null,
   "metadata": {
    "colab": {},
    "colab_type": "code",
    "id": "T9WAQ0jEuEsK"
   },
   "outputs": [],
   "source": []
  }
 ],
 "metadata": {
  "colab": {
   "include_colab_link": true,
   "name": "3 Lists.ipynb",
   "provenance": []
  },
  "kernelspec": {
   "display_name": "Python 3",
   "language": "python",
   "name": "python3"
  },
  "language_info": {
   "codemirror_mode": {
    "name": "ipython",
    "version": 3
   },
   "file_extension": ".py",
   "mimetype": "text/x-python",
   "name": "python",
   "nbconvert_exporter": "python",
   "pygments_lexer": "ipython3",
   "version": "3.7.2"
  }
 },
 "nbformat": 4,
 "nbformat_minor": 1
}
