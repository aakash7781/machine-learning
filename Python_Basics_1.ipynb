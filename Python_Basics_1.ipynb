{
 "cells": [
  {
   "cell_type": "markdown",
   "metadata": {
    "colab_type": "text",
    "id": "Rvbb-z4sG5sf"
   },
   "source": [
    "# Python fundamentals"
   ]
  },
  {
   "cell_type": "markdown",
   "metadata": {
    "colab_type": "text",
    "id": "ek4PGqxdG5sk"
   },
   "source": [
    "### print() function"
   ]
  },
  {
   "cell_type": "markdown",
   "metadata": {
    "colab_type": "raw",
    "id": "FWf6GfGNG5sm"
   },
   "source": [
    "print(\"Acropolis\")"
   ]
  },
  {
   "cell_type": "markdown",
   "metadata": {
    "colab_type": "text",
    "id": "PtDg6KhQG5sn"
   },
   "source": [
    "### Comments"
   ]
  },
  {
   "cell_type": "code",
   "execution_count": 1,
   "metadata": {
    "colab": {
     "base_uri": "https://localhost:8080/",
     "height": 34
    },
    "colab_type": "code",
    "id": "opEi0UOgG5sp",
    "outputId": "d35637b5-9eb8-4f35-c10b-e369d98b3cfc"
   },
   "outputs": [
    {
     "name": "stdout",
     "output_type": "stream",
     "text": [
      "Acropolis\n"
     ]
    }
   ],
   "source": [
    "# First Program\n",
    "print(\"Acropolis\")"
   ]
  },
  {
   "cell_type": "markdown",
   "metadata": {
    "colab_type": "text",
    "id": "-PwiE7I2G5sv"
   },
   "source": [
    "### Variables"
   ]
  },
  {
   "cell_type": "code",
   "execution_count": 2,
   "metadata": {
    "colab": {
     "base_uri": "https://localhost:8080/",
     "height": 34
    },
    "colab_type": "code",
    "id": "4h_N96TEG5sx",
    "outputId": "f391956a-4424-46bb-ae2c-d510ee668c70"
   },
   "outputs": [
    {
     "name": "stdout",
     "output_type": "stream",
     "text": [
      "20   4.123   India\n"
     ]
    }
   ],
   "source": [
    "# In Python there is no need to mention the data type\n",
    "\n",
    "var1 = 20      # An integer assignment\n",
    "var2 = 4.123   # A floating point\n",
    "var3 = \"India\" # A string\n",
    "\n",
    "print(var1,' ',var2,' ',var3)"
   ]
  },
  {
   "cell_type": "markdown",
   "metadata": {
    "colab_type": "text",
    "id": "OJjSBDPUG5s1"
   },
   "source": [
    "### Assignment"
   ]
  },
  {
   "cell_type": "code",
   "execution_count": 3,
   "metadata": {
    "colab": {
     "base_uri": "https://localhost:8080/",
     "height": 51
    },
    "colab_type": "code",
    "id": "D_J2d-iLG5s3",
    "outputId": "0f6d71eb-4f8b-4d44-a55e-3fc5203376a7",
    "scrolled": true
   },
   "outputs": [
    {
     "name": "stdout",
     "output_type": "stream",
     "text": [
      "1   1   1\n",
      "1   2.5   Sachin\n"
     ]
    }
   ],
   "source": [
    "# general syntax\n",
    "#variable-name=value\n",
    "\n",
    "# Assigning same value to multiple variables\n",
    "\n",
    "var1 = var2 = var3 = 1\n",
    "print(var1,' ',var2,' ',var3)\n",
    "\n",
    "# Assigning Different values to variable in a single expression\n",
    "\n",
    "var1, var2, var3 = 1, 2.5, \"Sachin\"\n",
    "print(var1,' ',var2,' ',var3)\n",
    "\n",
    "# Note: commas can be used for multi-assignments"
   ]
  },
  {
   "cell_type": "markdown",
   "metadata": {
    "colab_type": "text",
    "id": "xDs1JHtIG5s8"
   },
   "source": [
    "### Taking input"
   ]
  },
  {
   "cell_type": "code",
   "execution_count": null,
   "metadata": {
    "colab": {},
    "colab_type": "code",
    "id": "rNUFLrM7X2un"
   },
   "outputs": [],
   "source": []
  },
  {
   "cell_type": "code",
   "execution_count": 4,
   "metadata": {
    "colab": {
     "base_uri": "https://localhost:8080/",
     "height": 68
    },
    "colab_type": "code",
    "id": "56pGA0vmG5s9",
    "outputId": "44bdf23d-6221-42a8-b8af-54dcbb920fc9",
    "scrolled": true
   },
   "outputs": [
    {
     "name": "stdout",
     "output_type": "stream",
     "text": [
      "Enter your first name: Aakash\n",
      "Enter your second name: Maheshawri\n",
      "Enter your semester: 6th\n"
     ]
    }
   ],
   "source": [
    "firstname = input(\"Enter your first name: \")\n",
    "lastname = input(\"Enter your second name: \")\n",
    "semester = input(\"Enter your semester: \")"
   ]
  },
  {
   "cell_type": "code",
   "execution_count": 5,
   "metadata": {
    "colab": {
     "base_uri": "https://localhost:8080/",
     "height": 51
    },
    "colab_type": "code",
    "id": "U3RV2XeRG5tD",
    "outputId": "ce1ef4bf-2ba1-4769-a198-1a51f45a36fc"
   },
   "outputs": [
    {
     "name": "stdout",
     "output_type": "stream",
     "text": [
      "Enter your age: 20\n",
      "25\n"
     ]
    }
   ],
   "source": [
    "# run below code\n",
    "age = input(\"Enter your age: \")\n",
    "age = int(age)+5\n",
    "print(age)"
   ]
  },
  {
   "cell_type": "markdown",
   "metadata": {
    "colab_type": "text",
    "id": "MpWzqas4G5tH"
   },
   "source": [
    "### Write a program in Python for data type conversion from: \n",
    "- int to string\n",
    "- int to float\n",
    "- string to int\n",
    "- string to float\n",
    "- float to int\n",
    "- float to string"
   ]
  },
  {
   "cell_type": "code",
   "execution_count": 6,
   "metadata": {
    "colab": {
     "base_uri": "https://localhost:8080/",
     "height": 102
    },
    "colab_type": "code",
    "id": "EohYaD0jG5tJ",
    "outputId": "bb4607c9-7ef2-44af-879a-67ea8e7bbf29"
   },
   "outputs": [
    {
     "name": "stdout",
     "output_type": "stream",
     "text": [
      "10\n",
      "10.0\n",
      "20\n",
      "20.0\n",
      "23\n"
     ]
    }
   ],
   "source": [
    "a=10\n",
    "print(str(a))\n",
    "print(float(a))\n",
    "\n",
    "b='20'\n",
    "print(int(b))\n",
    "print(float(b))\n",
    "\n",
    "c=23.56\n",
    "#write code here to convert float into integer\n",
    "print(int(c))\n",
    "#write code here to convert float into string"
   ]
  },
  {
   "cell_type": "markdown",
   "metadata": {
    "colab_type": "text",
    "id": "3SQpXHpgG5tN"
   },
   "source": [
    "### Task1: \n",
    "#### WAP to display your infomation like (full name, branch, university name, age, 12th %, hobbies). Store each value into some meaningful variable.  the ouptput of the program should look like"
   ]
  },
  {
   "cell_type": "markdown",
   "metadata": {
    "colab_type": "raw",
    "id": "ywMVDdXkG5tO"
   },
   "source": [
    "My name is :\n",
    "I am in CSE branch at (College/University) : \n",
    "I am 18 year old   \n",
    "My Higher Secondary % is :\n",
    "My hobbies are : "
   ]
  },
  {
   "cell_type": "code",
   "execution_count": 7,
   "metadata": {
    "colab": {
     "base_uri": "https://localhost:8080/",
     "height": 119
    },
    "colab_type": "code",
    "id": "NcmrqUkXG5tQ",
    "outputId": "9d80bb96-6c5b-4edc-ddd2-9c618cc02bd1"
   },
   "outputs": [
    {
     "name": "stdout",
     "output_type": "stream",
     "text": [
      "Enter your name Aakash\n",
      "Enter your branch CSE\n",
      "Enter Your university of studying RGPV\n",
      "Enter your age 20\n",
      "Enter your 12th percentage 88\n",
      "Aakash CSE RGPV 20 88\n"
     ]
    }
   ],
   "source": [
    "# write your code after this line\n",
    "name=input(\"Enter your name \")\n",
    "branch=input(\"Enter your branch \")\n",
    "university=input(\"Enter Your university of studying \")\n",
    "age=input(\"Enter your age \")\n",
    "perc=input(\"Enter your 12th percentage \")\n",
    "\n",
    "print(name,branch,university,age,perc)"
   ]
  },
  {
   "cell_type": "markdown",
   "metadata": {
    "colab_type": "text",
    "id": "aUn64sgNG5tU"
   },
   "source": [
    "### Commmonly used functions \n",
    "- round(n)\n",
    "- format(n, '0.2f')\n",
    "- format(n,',') # put a comma on thousand place\n",
    "- format(n,'b') # print binary of the number, 'o', 'x'\n",
    "\n",
    "- eval(expression)\n",
    "- chr(n)\n",
    "- ord(character)\n",
    "- bin(n), oct(n), hex(n)\n",
    "\n",
    "- #### function on string/character data\n",
    "- isdigit()\n",
    "- isalpha()\n",
    "- isspace()\n",
    "- numeric()\n",
    "- ljust(width)\n",
    "- rjust(width)\n",
    "- cjust(width)"
   ]
  },
  {
   "cell_type": "code",
   "execution_count": 8,
   "metadata": {
    "colab": {
     "base_uri": "https://localhost:8080/",
     "height": 68
    },
    "colab_type": "code",
    "id": "nkRXM4BJG5tV",
    "outputId": "364a4196-8078-4f76-9701-9f20087a53a2",
    "scrolled": true
   },
   "outputs": [
    {
     "name": "stdout",
     "output_type": "stream",
     "text": [
      "acropolis, A computer science portal for acropolis.\n",
      "This article is written in Python\n",
      "Hello, I am 18 years old !\n"
     ]
    }
   ],
   "source": [
    "# Python3 program to demonstarte \n",
    "# the str.format() method \n",
    "  \n",
    "# using format option in a simple string \n",
    "print (\"{}, A computer science portal for acropolis.\"\n",
    "                        .format(\"acropolis\")) \n",
    "  \n",
    "# using format option for a \n",
    "# value stored in a variable \n",
    "str = \"This article is written in {}\"\n",
    "print (str.format(\"Python\")) \n",
    "  \n",
    "# formatting a string using a numeric constant \n",
    "print (\"Hello, I am {} years old !\".format(18))  "
   ]
  },
  {
   "cell_type": "code",
   "execution_count": 9,
   "metadata": {
    "colab": {
     "base_uri": "https://localhost:8080/",
     "height": 51
    },
    "colab_type": "code",
    "id": "m50gn_tsG5tb",
    "outputId": "400ed561-b213-4d89-9c64-7ff759a64a91"
   },
   "outputs": [
    {
     "name": "stdout",
     "output_type": "stream",
     "text": [
      "D\n",
      "68\n"
     ]
    }
   ],
   "source": [
    "# Characters and their ASCII value\n",
    "\n",
    "x=68\n",
    "# print character corresponding to x \n",
    "print(chr(x))\n",
    "char='D'\n",
    "# print number corresponding to char\n",
    "print(ord(char))"
   ]
  },
  {
   "cell_type": "code",
   "execution_count": 10,
   "metadata": {
    "colab": {
     "base_uri": "https://localhost:8080/",
     "height": 34
    },
    "colab_type": "code",
    "id": "b0mbEsRfG5tg",
    "outputId": "9a68bae6-3e8b-4969-9996-d36beb03e2ec"
   },
   "outputs": [
    {
     "name": "stdout",
     "output_type": "stream",
     "text": [
      "ACROPOLISACROPOLISACROPOLISACROPOLISACROPOLISACROPOLISACROPOLISACROPOLISACROPOLISACROPOLIS\n"
     ]
    }
   ],
   "source": [
    "# write code to print your name 10 times\n",
    "print('ACROPOLIS'*10)"
   ]
  },
  {
   "cell_type": "code",
   "execution_count": 11,
   "metadata": {
    "colab": {
     "base_uri": "https://localhost:8080/",
     "height": 102
    },
    "colab_type": "code",
    "id": "HQhqPPfaG5tl",
    "outputId": "54820677-14ab-4746-97c6-bf9b74ab8d99"
   },
   "outputs": [
    {
     "name": "stdout",
     "output_type": "stream",
     "text": [
      "\n",
      "*\n",
      "**\n",
      "***\n",
      "****\n"
     ]
    }
   ],
   "source": [
    "for i in range(5):\n",
    "    print(\"*\"*i)"
   ]
  },
  {
   "cell_type": "code",
   "execution_count": 12,
   "metadata": {
    "colab": {
     "base_uri": "https://localhost:8080/",
     "height": 34
    },
    "colab_type": "code",
    "id": "v5QAgvn8G5tp",
    "outputId": "6925ec9d-5398-4baa-fa34-3255bdf47f72"
   },
   "outputs": [
    {
     "name": "stdout",
     "output_type": "stream",
     "text": [
      "10:20:30,"
     ]
    }
   ],
   "source": [
    "# use seperator and end with specific symbol\n",
    "a, b, c = 10, 20, 30\n",
    "print(a,b,c,sep=':',end=',')"
   ]
  },
  {
   "cell_type": "code",
   "execution_count": 13,
   "metadata": {
    "colab": {
     "base_uri": "https://localhost:8080/",
     "height": 85
    },
    "colab_type": "code",
    "id": "IxLqu9XZG5tt",
    "outputId": "f6e3d8fd-3f16-454b-d6aa-809a29967985"
   },
   "outputs": [
    {
     "name": "stdout",
     "output_type": "stream",
     "text": [
      "     *\n",
      "    **\n",
      "   ***\n",
      "  ****\n"
     ]
    }
   ],
   "source": [
    "for i in range(1,5):\n",
    "    print(\" \"*(5-i),\"*\"*i)"
   ]
  },
  {
   "cell_type": "code",
   "execution_count": 14,
   "metadata": {
    "colab": {
     "base_uri": "https://localhost:8080/",
     "height": 34
    },
    "colab_type": "code",
    "id": "GFIBWQUtG5tx",
    "outputId": "e707d658-d0a5-4833-d20d-e0d2375b56e1"
   },
   "outputs": [
    {
     "name": "stdout",
     "output_type": "stream",
     "text": [
      "P Y T H\n"
     ]
    }
   ],
   "source": [
    "# unpack characters\n",
    "word = 'PYTH'\n",
    "a,b,c,d = word\n",
    "print(a,b,c,d)"
   ]
  },
  {
   "cell_type": "markdown",
   "metadata": {
    "colab_type": "text",
    "id": "XOxjxinfG5t1"
   },
   "source": [
    "### Format output"
   ]
  },
  {
   "cell_type": "code",
   "execution_count": 15,
   "metadata": {
    "colab": {},
    "colab_type": "code",
    "id": "EJWEn5P4cfOd"
   },
   "outputs": [
    {
     "name": "stdout",
     "output_type": "stream",
     "text": [
      "The value of x is 5 and y is 10\n"
     ]
    }
   ],
   "source": [
    "x = 5 \n",
    "y = 10\n",
    "print('The value of x is {} and y is {}'.format(x,y))"
   ]
  },
  {
   "cell_type": "code",
   "execution_count": 16,
   "metadata": {
    "colab": {},
    "colab_type": "code",
    "id": "rohJ0RmQG5t6",
    "scrolled": true
   },
   "outputs": [
    {
     "name": "stdout",
     "output_type": "stream",
     "text": [
      "I like ice cream and chocolate\n"
     ]
    }
   ],
   "source": [
    "print('I like {0} and {1}'.format('ice cream','chocolate'))"
   ]
  },
  {
   "cell_type": "code",
   "execution_count": 17,
   "metadata": {
    "colab": {},
    "colab_type": "code",
    "id": "ePTsWKD2G5t-",
    "scrolled": true
   },
   "outputs": [
    {
     "name": "stdout",
     "output_type": "stream",
     "text": [
      "I like chocolate and ice cream\n"
     ]
    }
   ],
   "source": [
    "print('I like {1} and {0}'.format('ice cream','chocolate'))"
   ]
  },
  {
   "cell_type": "code",
   "execution_count": 18,
   "metadata": {
    "colab": {},
    "colab_type": "code",
    "id": "MHagJ4n_G5uE",
    "scrolled": true
   },
   "outputs": [
    {
     "name": "stdout",
     "output_type": "stream",
     "text": [
      "Hello Sachin !, Good morning\n"
     ]
    }
   ],
   "source": [
    "print('Hello {name}, {greeting}'.format(greeting = 'Good morning', name = 'Sachin !'))"
   ]
  },
  {
   "cell_type": "markdown",
   "metadata": {
    "colab_type": "text",
    "id": "liwzGLgJG5uJ"
   },
   "source": [
    "### Task2\n",
    "#### Raman likes tea but he has coffee. Riya likes coffee but has tea. Write a program in python so that both can enjoy what they like."
   ]
  },
  {
   "cell_type": "code",
   "execution_count": 19,
   "metadata": {
    "colab": {
     "base_uri": "https://localhost:8080/",
     "height": 34
    },
    "colab_type": "code",
    "id": "KLT5upfKG5uK",
    "outputId": "b93e8327-95d1-412e-d7a9-29ae953905bb"
   },
   "outputs": [
    {
     "name": "stdout",
     "output_type": "stream",
     "text": [
      "Raman likes Tea and Riya likes Coffe\n"
     ]
    }
   ],
   "source": [
    "# write your code after this line\n",
    "raman=\"Coffe\"\n",
    "riya=\"Tea\"\n",
    "raman,riya=riya,raman\n",
    "print(f\"Raman likes {raman} and Riya likes {riya}\")"
   ]
  },
  {
   "cell_type": "markdown",
   "metadata": {
    "colab_type": "text",
    "heading_collapsed": true,
    "id": "S2j-VmN9G5uN"
   },
   "source": [
    "### Task3\n",
    "Write a program for following\n",
    "- Input: 'Python'\n",
    "- Output: 642"
   ]
  },
  {
   "cell_type": "code",
   "execution_count": 20,
   "metadata": {
    "colab": {},
    "colab_type": "code",
    "hidden": true,
    "id": "VEgfNycFG5uO"
   },
   "outputs": [
    {
     "name": "stdout",
     "output_type": "stream",
     "text": [
      "642\n"
     ]
    }
   ],
   "source": [
    "# write your code after this line\n",
    "a,b,c,d,e,f='Python'\n",
    "s=ord(a)+ord(b)+ord(c)+ord(d)+ord(e)+ord(f)\n",
    "print(s)"
   ]
  },
  {
   "cell_type": "markdown",
   "metadata": {
    "colab_type": "text",
    "id": "DjUR0ktSG5uR"
   },
   "source": [
    "# Working with math, calendar, random, datetime"
   ]
  },
  {
   "cell_type": "code",
   "execution_count": 21,
   "metadata": {
    "colab": {},
    "colab_type": "code",
    "id": "y8UbqGZ1G5uS"
   },
   "outputs": [
    {
     "name": "stdout",
     "output_type": "stream",
     "text": [
      "5.0\n"
     ]
    },
    {
     "data": {
      "text/plain": [
       "3.141592653589793"
      ]
     },
     "execution_count": 21,
     "metadata": {},
     "output_type": "execute_result"
    }
   ],
   "source": [
    "import math\n",
    "print(math.sqrt(25))\n",
    "#math.floor(10.8)\n",
    "#math.ceil(10.5) \n",
    "math.pi\n"
   ]
  },
  {
   "cell_type": "code",
   "execution_count": 22,
   "metadata": {
    "colab": {
     "base_uri": "https://localhost:8080/",
     "height": 51
    },
    "colab_type": "code",
    "id": "9Sofw03xG5uW",
    "outputId": "7d8c3527-a4e4-4c1e-9676-1746ae07b15a"
   },
   "outputs": [
    {
     "name": "stdout",
     "output_type": "stream",
     "text": [
      "x =  0.19302322347598933\n",
      "y =  11\n"
     ]
    }
   ],
   "source": [
    "import random\n",
    "x = random.random() # generate any random number between 0 and 1\n",
    "print(\"x = \", x)\n",
    "\n",
    "y = random.randint(5,20)# generate any random number between 5 and 20\n",
    "print(\"y = \", y)"
   ]
  },
  {
   "cell_type": "code",
   "execution_count": 23,
   "metadata": {
    "colab": {},
    "colab_type": "code",
    "id": "zJhrO4MyG5uZ"
   },
   "outputs": [
    {
     "name": "stdout",
     "output_type": "stream",
     "text": [
      "2020-02-01\n",
      "2020\n",
      "2\n",
      "1\n"
     ]
    }
   ],
   "source": [
    "import datetime\n",
    "\n",
    "date = datetime.datetime.now().date() # YYYY-MM-DD format\n",
    "year = datetime.datetime.now().year\n",
    "month = datetime.datetime.now().month\n",
    "day = datetime.datetime.now().day\n",
    "\n",
    "print(date)\n",
    "print(year)\n",
    "print(month)\n",
    "print(day)"
   ]
  },
  {
   "cell_type": "code",
   "execution_count": 24,
   "metadata": {
    "colab": {
     "base_uri": "https://localhost:8080/",
     "height": 187
    },
    "colab_type": "code",
    "id": "cq9pMSf4G5uc",
    "outputId": "d2770ed7-ce96-4e4e-984d-8f0d12f75216",
    "scrolled": false
   },
   "outputs": [
    {
     "name": "stdout",
     "output_type": "stream",
     "text": [
      "Enter Year : 2020\n",
      "Enter the Month : 2\n",
      "   February 2020\n",
      "Mo Tu We Th Fr Sa Su\n",
      "                1  2\n",
      " 3  4  5  6  7  8  9\n",
      "10 11 12 13 14 15 16\n",
      "17 18 19 20 21 22 23\n",
      "24 25 26 27 28 29\n",
      "\n"
     ]
    }
   ],
   "source": [
    "import calendar\n",
    "\n",
    "year = int(input(\"Enter Year : \"))\n",
    "month = int(input(\"Enter the Month : \"))\n",
    "\n",
    "print(calendar.month(year, month))"
   ]
  }
 ],
 "metadata": {
  "colab": {
   "collapsed_sections": [],
   "name": "Python_Basics_1.ipynb",
   "provenance": []
  },
  "kernelspec": {
   "display_name": "Python 3",
   "language": "python",
   "name": "python3"
  },
  "language_info": {
   "codemirror_mode": {
    "name": "ipython",
    "version": 3
   },
   "file_extension": ".py",
   "mimetype": "text/x-python",
   "name": "python",
   "nbconvert_exporter": "python",
   "pygments_lexer": "ipython3",
   "version": "3.7.2"
  }
 },
 "nbformat": 4,
 "nbformat_minor": 1
}
