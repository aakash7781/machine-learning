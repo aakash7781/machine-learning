{
 "cells": [
  {
   "cell_type": "markdown",
   "metadata": {
    "colab_type": "text",
    "heading_collapsed": true,
    "id": "n_VDg1RwuChB"
   },
   "source": [
    "# Expressions, Operators, Control statements"
   ]
  },
  {
   "cell_type": "markdown",
   "metadata": {
    "colab_type": "text",
    "id": "6Cw_bQCzuChF"
   },
   "source": [
    "# Operators\n",
    "- Arithmetic (+, -, *, /, //, %)\n",
    "- Relational (<, >, <=, >=, !=, ==)\n",
    "- Shift (>>, <<)\n",
    "- Assignment (=)\n",
    "- Logical (and, or, not)\n",
    "- Bitwise (&, |, !)\n",
    "- 'in' and 'not in' operator\n"
   ]
  },
  {
   "cell_type": "markdown",
   "metadata": {
    "colab_type": "raw",
    "id": "FEu90oEtuChG"
   },
   "source": [
    "# << and >>\n",
    "\n",
    "if n=8 (1000 in binary), n>>1 will give 100 after shifting bits by 1 place to right. \n",
    "                         n<<1 will give 10000 after shifting bits by 1 place to left."
   ]
  },
  {
   "cell_type": "code",
   "execution_count": 1,
   "metadata": {
    "colab": {
     "base_uri": "https://localhost:8080/",
     "height": 70
    },
    "colab_type": "code",
    "id": "7v33-5nguChI",
    "outputId": "e97d240a-6c64-4b79-a8b8-e9cdfb7888b3"
   },
   "outputs": [
    {
     "name": "stdout",
     "output_type": "stream",
     "text": [
      "9 binary 1001\n",
      "9 * 2= 18 10010\n",
      "9 / 2= 4 100\n"
     ]
    }
   ],
   "source": [
    "n=9\n",
    "print(n,'binary',format(n,'b'))\n",
    "print(n,'* 2=',n<<1, format(n<<1,'b'))\n",
    "print(n,'/ 2=',n>>1,format(n>>1,'b'))"
   ]
  },
  {
   "cell_type": "code",
   "execution_count": 2,
   "metadata": {
    "colab": {},
    "colab_type": "code",
    "id": "2QV1wgNYuChQ"
   },
   "outputs": [
    {
     "name": "stdout",
     "output_type": "stream",
     "text": [
      "x and y is False\n",
      "x or y is True\n",
      "not x is False\n"
     ]
    }
   ],
   "source": [
    "# logical\n",
    "x = True\n",
    "y = False\n",
    "print('x and y is',x and y) # Output: x and y is False\n",
    "print('x or y is',x or y) # Output: x or y is True\n",
    "print('not x is',not x) # Output: not x is False"
   ]
  },
  {
   "cell_type": "code",
   "execution_count": 3,
   "metadata": {
    "colab": {
     "base_uri": "https://localhost:8080/",
     "height": 70
    },
    "colab_type": "code",
    "id": "Az6UaXmPuChV",
    "outputId": "fe342524-1514-4b44-a52f-cf9b53891afb"
   },
   "outputs": [
    {
     "name": "stdout",
     "output_type": "stream",
     "text": [
      "4\n",
      "12\n",
      "8\n"
     ]
    }
   ],
   "source": [
    "# bitwise\n",
    "x=12 \n",
    "y=4 \n",
    "print(x & y) \n",
    "print(x | y)\n",
    "print(x ^ y)"
   ]
  },
  {
   "cell_type": "code",
   "execution_count": 4,
   "metadata": {
    "colab": {},
    "colab_type": "code",
    "id": "fHdeM7hKuCha"
   },
   "outputs": [
    {
     "name": "stdout",
     "output_type": "stream",
     "text": [
      "True\n",
      "True\n"
     ]
    }
   ],
   "source": [
    "# in and not in\n",
    "\n",
    "x = 'Hello world'\n",
    "print('H' in x)    # Output: True\n",
    "print('h' not in x)   # Output: True"
   ]
  },
  {
   "cell_type": "code",
   "execution_count": 5,
   "metadata": {
    "colab": {
     "base_uri": "https://localhost:8080/",
     "height": 87
    },
    "colab_type": "code",
    "id": "SD083I1euChe",
    "outputId": "6a914ece-c62f-4055-d8e6-0c708f0dabd2"
   },
   "outputs": [
    {
     "name": "stdout",
     "output_type": "stream",
     "text": [
      "a+b (25+8j)\n",
      "a-b (15+2j)\n",
      "a*b (85+85j)\n",
      "a/b (3.3823529411764706-1.0294117647058825j)\n"
     ]
    }
   ],
   "source": [
    "# perform operations on complex numbers\n",
    "\n",
    "import cmath\n",
    "a=complex(20+5j)\n",
    "b=complex(5+3j)\n",
    "print('a+b',a+b)\n",
    "print('a-b',a-b)\n",
    "print('a*b',a*b)\n",
    "print('a/b',a/b)"
   ]
  },
  {
   "cell_type": "code",
   "execution_count": null,
   "metadata": {
    "colab": {},
    "colab_type": "code",
    "id": "vvnJBOLewPRn"
   },
   "outputs": [],
   "source": []
  },
  {
   "cell_type": "markdown",
   "metadata": {
    "colab_type": "text",
    "id": "Ks4llkCxuChj"
   },
   "source": [
    "### Task1 Write a program in python to calculate area of triangle when all three sides are given.\n",
    "- s=(a+b+c)/2\n",
    "- area =  √(s(s-a)(s-b)(s-c) )"
   ]
  },
  {
   "cell_type": "code",
   "execution_count": 6,
   "metadata": {
    "colab": {
     "base_uri": "https://localhost:8080/",
     "height": 87
    },
    "colab_type": "code",
    "id": "WulnhHhpuChl",
    "outputId": "94868b4e-452d-4450-be25-d034d9906af8"
   },
   "outputs": [
    {
     "name": "stdout",
     "output_type": "stream",
     "text": [
      "Enter lenght of triangle5\n",
      "Enter Breadth of triangle6\n",
      "Enter height of triangle9\n",
      "14.142135623730951\n"
     ]
    }
   ],
   "source": [
    "# write your code after this line\n",
    "import math\n",
    "length=int(input(\"Enter lenght of triangle\"))\n",
    "breadth=int(input(\"Enter Breadth of triangle\"))\n",
    "height=int(input(\"Enter height of triangle\"))\n",
    "s=(length+breadth+height)/2\n",
    "area=(s*(s-height)*(s-length)*(s-breadth))\n",
    "areaf=math.sqrt(area)\n",
    "print(areaf)"
   ]
  },
  {
   "cell_type": "markdown",
   "metadata": {
    "colab_type": "text",
    "id": "J-WVeW51uChr"
   },
   "source": [
    "# Control Statements"
   ]
  },
  {
   "cell_type": "markdown",
   "metadata": {
    "colab_type": "text",
    "id": "OsmF1j5wuChs"
   },
   "source": [
    "### Decisions (if-else)"
   ]
  },
  {
   "cell_type": "markdown",
   "metadata": {
    "colab_type": "raw",
    "id": "f48xY3pmuChu"
   },
   "source": [
    "# simple if-else\n",
    "if(cond):\n",
    "    stmt\n",
    "else:\n",
    "    stmt"
   ]
  },
  {
   "cell_type": "markdown",
   "metadata": {
    "colab_type": "raw",
    "id": "fL6cU4vTuChv"
   },
   "source": [
    "# if-else-if\n",
    "if(cond):\n",
    "    stmt\n",
    "elif(cond):\n",
    "    stmt\n",
    "    .\n",
    "    .\n",
    "    .\n",
    "else: \n",
    "    stmt"
   ]
  },
  {
   "cell_type": "markdown",
   "metadata": {
    "colab_type": "raw",
    "id": "qDbMSLPWuChx"
   },
   "source": [
    "# nested if-else\n",
    "                            if(cond):\n",
    "                                stmt\n",
    "                                if(cond):\n",
    "                                    stmt1\n",
    "                            else:\n",
    "                                if(cond):\n",
    "                                    stmt3\n",
    "                                else:\n",
    "                                    stmt4"
   ]
  },
  {
   "cell_type": "markdown",
   "metadata": {
    "colab_type": "text",
    "heading_collapsed": true,
    "id": "osB-_kdfuChz"
   },
   "source": [
    "### Task2: Write a proram that accept a lowercase/uppercase character from the user and check whether the character is a vowel or consonant."
   ]
  },
  {
   "cell_type": "code",
   "execution_count": 7,
   "metadata": {
    "colab": {
     "base_uri": "https://localhost:8080/",
     "height": 52
    },
    "colab_type": "code",
    "hidden": true,
    "id": "ER1s9HLLuCh1",
    "outputId": "5ef84f05-ebe0-4989-8c97-fb74b72fdb3e"
   },
   "outputs": [
    {
     "name": "stdout",
     "output_type": "stream",
     "text": [
      "Enter a letter a\n",
      "Character entered is Vowel \n"
     ]
    }
   ],
   "source": [
    "# write your code after this line\n",
    "ch=input(\"Enter a letter \")\n",
    "if(ch == 'a' or ch == 'e' or ch == 'i' or ch == 'o' or ch == 'u' or ch == 'A'\n",
    "       or ch == 'E' or ch == 'I' or ch == 'O' or ch == 'U'):\n",
    "  print(\"Character entered is Vowel \")\n",
    "else:\n",
    "  print(\"Character is consonant \")\n"
   ]
  },
  {
   "cell_type": "markdown",
   "metadata": {
    "colab_type": "text",
    "heading_collapsed": true,
    "id": "K78UkrbLuCh9"
   },
   "source": [
    "### Task3: Write a program to check whether given character is a digit or a character in lowercase or uppercase alphabet. Hint: ASCII value of digit is between 48 to 58 and Lowercase characters in the range of 97 to122, uppercase is between 65 and 90)."
   ]
  },
  {
   "cell_type": "code",
   "execution_count": 8,
   "metadata": {
    "colab": {
     "base_uri": "https://localhost:8080/",
     "height": 52
    },
    "colab_type": "code",
    "hidden": true,
    "id": "ECZGi0hruCh-",
    "outputId": "80a7b8da-b350-4c2e-8c42-40547e0900f7"
   },
   "outputs": [
    {
     "name": "stdout",
     "output_type": "stream",
     "text": [
      "EnterA\n",
      "Upper case letter\n"
     ]
    }
   ],
   "source": [
    "# write your code after this line\n",
    "ch=input(\"Enter\")\n",
    "if ch.isupper():\n",
    "  print(\"Upper case letter\")\n",
    "else:\n",
    "  print(\"Lower case\")"
   ]
  },
  {
   "cell_type": "markdown",
   "metadata": {
    "colab_type": "text",
    "id": "4vS2xTXOuCiC"
   },
   "source": [
    "### Repetition or loop\n",
    "- while loop\n",
    "- for loop"
   ]
  },
  {
   "cell_type": "markdown",
   "metadata": {
    "colab_type": "text",
    "id": "10zY80T_uCiD"
   },
   "source": [
    "#### While loop"
   ]
  },
  {
   "cell_type": "markdown",
   "metadata": {
    "colab_type": "raw",
    "id": "aLy4RdvpuCiE"
   },
   "source": [
    "initialization of loop variable\n",
    "while( condition ):\n",
    "    stmt 1\n",
    "    stmt 2\n",
    "    ...\n",
    "    update loop variable"
   ]
  },
  {
   "cell_type": "markdown",
   "metadata": {
    "colab_type": "text",
    "id": "ZZJYEIcluCiF"
   },
   "source": [
    "##### Task 4: Write a program in Python to print table of any number 'n' provided by user using while loop."
   ]
  },
  {
   "cell_type": "code",
   "execution_count": 9,
   "metadata": {
    "colab": {
     "base_uri": "https://localhost:8080/",
     "height": 212
    },
    "colab_type": "code",
    "id": "TrTjzgI_uCiH",
    "outputId": "0c063cdd-bbd2-457b-cc58-f9dc07aec340"
   },
   "outputs": [
    {
     "name": "stdout",
     "output_type": "stream",
     "text": [
      "Enter a number5\n",
      "5x1=5\n",
      "5x2=10\n",
      "5x3=15\n",
      "5x4=20\n",
      "5x5=25\n",
      "5x6=30\n",
      "5x7=35\n",
      "5x8=40\n",
      "5x9=45\n",
      "5x10=50\n"
     ]
    }
   ],
   "source": [
    "# write your code after this line\n",
    "n=int(input(\"Enter a number\"))\n",
    "i=1\n",
    "while(i<=10):\n",
    "  print(f\"{n}x{i}={n*i}\")\n",
    "  i+=1\n"
   ]
  },
  {
   "cell_type": "markdown",
   "metadata": {
    "colab_type": "text",
    "id": "ae_w6RcmuCiM"
   },
   "source": [
    "##### Task 5: Write a program in Python to evaluate the following series using while loop:\n",
    "    \n",
    "    1! + 2! + 3! + 4! ...+ n!\n",
    "hint: use math.factorial(n) function to calculate factorial of number n."
   ]
  },
  {
   "cell_type": "code",
   "execution_count": 10,
   "metadata": {
    "colab": {
     "base_uri": "https://localhost:8080/",
     "height": 52
    },
    "colab_type": "code",
    "id": "Zrgd8MX1uCiO",
    "outputId": "01fbf033-9d8f-482c-dba5-23340f665bd3"
   },
   "outputs": [
    {
     "name": "stdout",
     "output_type": "stream",
     "text": [
      "Enter a number9\n",
      "362880\n"
     ]
    }
   ],
   "source": [
    "# write your code after this line\n",
    "import math\n",
    "n=int(input(\"Enter a number\"))\n",
    "print(math.factorial(n))\n"
   ]
  },
  {
   "cell_type": "markdown",
   "metadata": {
    "colab_type": "text",
    "id": "eeXNvxy8uCiU"
   },
   "source": [
    "##### Task 6: Write a program in Python to enter the numbers till the user wants and at the end it should display the maximum number entered using while loop."
   ]
  },
  {
   "cell_type": "code",
   "execution_count": 11,
   "metadata": {
    "colab": {
     "base_uri": "https://localhost:8080/",
     "height": 177
    },
    "colab_type": "code",
    "id": "Mwecmh1ZuCiV",
    "outputId": "fc2f1912-24fb-4007-b084-00558f7008c0"
   },
   "outputs": [
    {
     "name": "stdout",
     "output_type": "stream",
     "text": [
      "Enter the count of numbers you want to enter10\n",
      "Enter a number2\n",
      "Enter a number3\n",
      "Enter a number5\n",
      "Enter a number4\n",
      "Enter a number6\n",
      "Enter a number7\n",
      "Enter a number8\n",
      "Enter a number9\n",
      "Enter a number4\n",
      "Enter a number1\n",
      "9\n"
     ]
    }
   ],
   "source": [
    "# write your code after this line\n",
    "t=int(input(\"Enter the count of numbers you want to enter\"))\n",
    "n=1\n",
    "a=[]\n",
    "while(n<=t):\n",
    "  en=int(input(\"Enter a number\"))\n",
    "  a.append(en)\n",
    "  n=n+1\n",
    "print(max(a))\n",
    "  \n"
   ]
  },
  {
   "cell_type": "markdown",
   "metadata": {
    "colab_type": "text",
    "id": "1NEdGg9SuCiZ"
   },
   "source": [
    "#### for loop"
   ]
  },
  {
   "cell_type": "markdown",
   "metadata": {
    "colab_type": "raw",
    "id": "Ui3_CBMguCia"
   },
   "source": [
    "for iterable_var_name in range(terminating_value):\n",
    "    stmt 1\n",
    "    stmt 2\n",
    "    ...\n",
    "    \n",
    " for iterable_var_name in range(initial_value,terminating_value):\n",
    "    stmt 1\n",
    "    stmt 2\n",
    "    ...\n",
    "    \n",
    " for iterable_var_name in range(initial_value,terminating_value,updation):\n",
    "    stmt 1\n",
    "    stmt 2\n",
    "    ..."
   ]
  },
  {
   "cell_type": "code",
   "execution_count": 12,
   "metadata": {
    "colab": {},
    "colab_type": "code",
    "id": "gKDSJNtVuCib"
   },
   "outputs": [
    {
     "name": "stdout",
     "output_type": "stream",
     "text": [
      "Enter a number 5\n",
      "5 ! = 120\n"
     ]
    }
   ],
   "source": [
    "# factorial\n",
    "n=int(input('Enter a number '))\n",
    "fact=1\n",
    "for i in range(n,1,-1):\n",
    "    fact=fact*i\n",
    "print(n,'! =',fact)"
   ]
  },
  {
   "cell_type": "markdown",
   "metadata": {
    "colab_type": "text",
    "id": "tPc22JJGuCif"
   },
   "source": [
    "##### Task 7:Write a program in Python to print all numbers from 0 to 9 except 3 and 6 using a for loop. \n"
   ]
  },
  {
   "cell_type": "code",
   "execution_count": 13,
   "metadata": {
    "colab": {
     "base_uri": "https://localhost:8080/",
     "height": 159
    },
    "colab_type": "code",
    "id": "y1ikCkQvuCig",
    "outputId": "b83213dc-bcba-479b-c90a-607ffb5d60cc"
   },
   "outputs": [
    {
     "name": "stdout",
     "output_type": "stream",
     "text": [
      "0\n",
      "1\n",
      "2\n",
      "4\n",
      "5\n",
      "7\n",
      "8\n",
      "9\n"
     ]
    }
   ],
   "source": [
    "# write your code after this line\n",
    "a=[3,6]\n",
    "for i in range(10):\n",
    "  if i not in a:\n",
    "    print(i)"
   ]
  },
  {
   "cell_type": "markdown",
   "metadata": {
    "colab_type": "text",
    "id": "e1v7v-l6uCik"
   },
   "source": [
    "#### 2 Write a program in Python to get 10 numbers from user using a for loop. The program should print the count of positive numbers, negative numbers and zeroes entered by the user."
   ]
  },
  {
   "cell_type": "code",
   "execution_count": 15,
   "metadata": {
    "colab": {
     "base_uri": "https://localhost:8080/",
     "height": 212
    },
    "colab_type": "code",
    "id": "ivTl5evQuCiq",
    "outputId": "2d74408d-2003-4a2c-91bd-b51d56c906b4"
   },
   "outputs": [
    {
     "name": "stdout",
     "output_type": "stream",
     "text": [
      "Enter a number5\n",
      "Enter a number-9\n",
      "Enter a number12\n",
      "Enter a number1\n",
      "Enter a number3\n",
      "Enter a number-5\n",
      "Enter a number0\n",
      "Enter a number14\n",
      "Enter a number13\n",
      "Enter a number17\n",
      "Positives are 7 Negatives are 2 Zeroes are 1\n"
     ]
    }
   ],
   "source": [
    "l=[]\n",
    "pos=0\n",
    "neg=0\n",
    "zer=0\n",
    "for i in range(10):\n",
    "  a=int(input(\"Enter a number\"))\n",
    "  if a>0:\n",
    "    pos+=1\n",
    "  if a<0:\n",
    "    neg+=1\n",
    "  if a==0:\n",
    "    zer+=1\n",
    "print(\"Positives are {0} Negatives are {1} Zeroes are {2}\".format(pos,neg,zer)) "
   ]
  },
  {
   "cell_type": "code",
   "execution_count": null,
   "metadata": {
    "colab": {},
    "colab_type": "code",
    "id": "MsKo9hIB4zj8"
   },
   "outputs": [],
   "source": []
  }
 ],
 "metadata": {
  "colab": {
   "collapsed_sections": [],
   "name": "2_Expression_and_Operators.ipynb",
   "provenance": []
  },
  "kernelspec": {
   "display_name": "Python 3",
   "language": "python",
   "name": "python3"
  },
  "language_info": {
   "codemirror_mode": {
    "name": "ipython",
    "version": 3
   },
   "file_extension": ".py",
   "mimetype": "text/x-python",
   "name": "python",
   "nbconvert_exporter": "python",
   "pygments_lexer": "ipython3",
   "version": "3.7.2"
  }
 },
 "nbformat": 4,
 "nbformat_minor": 1
}
