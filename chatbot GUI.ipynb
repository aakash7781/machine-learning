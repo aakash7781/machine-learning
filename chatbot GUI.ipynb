{
 "cells": [
  {
   "cell_type": "code",
   "execution_count": 1,
   "metadata": {},
   "outputs": [],
   "source": [
    "from tkinter import *\n",
    "\n",
    "from PIL import Image, ImageTk"
   ]
  },
  {
   "cell_type": "code",
   "execution_count": 21,
   "metadata": {},
   "outputs": [],
   "source": [
    "def ask_from_bot():\n",
    "    print(\"clicked\")"
   ]
  },
  {
   "cell_type": "code",
   "execution_count": 22,
   "metadata": {},
   "outputs": [
    {
     "name": "stdout",
     "output_type": "stream",
     "text": [
      "clicked\n",
      "clicked\n",
      "clicked\n",
      "clicked\n",
      "clicked\n",
      "clicked\n"
     ]
    }
   ],
   "source": [
    "main = Tk()\n",
    "main.geometry(\"600x600\")\n",
    "main.title(\"chatbot\")\n",
    "img = Image.open(\"C:/Users/pc.DESKTOP-TCTT2K6/Desktop/ML/FF10_animated.gif\")\n",
    "ph = ImageTk.PhotoImage(img)\n",
    "label = Label(main, image = ph)\n",
    "label.image=ph\n",
    "label.pack(pady=5)\n",
    "\n",
    "#text field\n",
    "textF = Entry(main, font=(\"Verdana\", 10))\n",
    "textF.pack(fill=X,pady=10)\n",
    "\n",
    "#ask button\n",
    "btn = Button(main,text=\"ask from bot\", font=(\"Verdana\", 8), command = ask_from_bot)\n",
    "btn.pack()\n",
    "\n",
    "#display message\n",
    "frame=Frame(main)\n",
    "sc=Scrollbar(frame)\n",
    "msg=Listbox(frame,width=80,height=20)\n",
    "sc.pack(side=RIGHT, fill=Y)\n",
    "msg.pack(side=LEFT,fill=BOTH,pady=10)\n",
    "frame.pack()\n",
    "\n",
    "\n",
    "main.mainloop()\n",
    "\n"
   ]
  },
  {
   "cell_type": "code",
   "execution_count": null,
   "metadata": {},
   "outputs": [],
   "source": []
  },
  {
   "cell_type": "code",
   "execution_count": null,
   "metadata": {},
   "outputs": [],
   "source": []
  },
  {
   "cell_type": "code",
   "execution_count": null,
   "metadata": {},
   "outputs": [],
   "source": []
  }
 ],
 "metadata": {
  "kernelspec": {
   "display_name": "Python 3",
   "language": "python",
   "name": "python3"
  },
  "language_info": {
   "codemirror_mode": {
    "name": "ipython",
    "version": 3
   },
   "file_extension": ".py",
   "mimetype": "text/x-python",
   "name": "python",
   "nbconvert_exporter": "python",
   "pygments_lexer": "ipython3",
   "version": "3.7.2"
  }
 },
 "nbformat": 4,
 "nbformat_minor": 4
}
