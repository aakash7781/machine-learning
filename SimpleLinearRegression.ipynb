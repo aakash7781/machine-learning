{
 "cells": [
  {
   "cell_type": "code",
   "execution_count": 1,
   "metadata": {
    "colab": {},
    "colab_type": "code",
    "id": "Ayzj2PTp9pcc"
   },
   "outputs": [],
   "source": [
    "#Uni variate data\n",
    "import pandas as pd\n",
    "import numpy as np\n",
    "import matplotlib.pyplot as plt"
   ]
  },
  {
   "cell_type": "markdown",
   "metadata": {
    "colab_type": "text",
    "id": "ouTG8Tvb9pck"
   },
   "source": [
    "PREPARING THE DATASET"
   ]
  },
  {
   "cell_type": "code",
   "execution_count": 2,
   "metadata": {
    "colab": {
     "base_uri": "https://localhost:8080/",
     "height": 374
    },
    "colab_type": "code",
    "id": "j76ojSvH9pcm",
    "outputId": "bec1863f-4545-476f-e055-71e28a331a79"
   },
   "outputs": [
    {
     "name": "stdout",
     "output_type": "stream",
     "text": [
      "    passenger  Scores\n",
      "0         892       0\n",
      "1         893       1\n",
      "2         894       0\n",
      "3         895       0\n",
      "4         896       1\n",
      "5         897       0\n",
      "6         898       1\n",
      "7         899       0\n",
      "8         900       1\n",
      "9         901       0\n",
      "10        902       0\n",
      "11        903       0\n",
      "12        904       1\n",
      "13        905       0\n",
      "14        905       1\n",
      "15        906       1\n",
      "16        907       0\n",
      "17        908       0\n",
      "18        909       1\n",
      "19        910       0\n"
     ]
    }
   ],
   "source": [
    "# intialise data of lists. \n",
    "data = {'passenger':[892,893,894,895,896,897,898,899,900,901,902,903,904,905,905,906,907,908,909,910], \n",
    "        'Scores':[0,1,0,0,1,0,1,0,1,0,0,0,1,0,1,1,0,0,1,0]} \n",
    "  \n",
    "# Create DataFrame \n",
    "passenger = pd.DataFrame(data) \n",
    "  \n",
    "# Print the output. \n",
    "print(passenger)"
   ]
  },
  {
   "cell_type": "markdown",
   "metadata": {
    "colab_type": "text",
    "id": "Xc2RcBQF9pcs"
   },
   "source": [
    "SEPARATING THE DEPENDENT AND INDEPENDENT VARIABLES"
   ]
  },
  {
   "cell_type": "code",
   "execution_count": 3,
   "metadata": {
    "colab": {
     "base_uri": "https://localhost:8080/",
     "height": 374
    },
    "colab_type": "code",
    "id": "VrEJjZbh9pct",
    "outputId": "38d3a285-27bb-4664-f633-44a31ae4d5e3"
   },
   "outputs": [
    {
     "name": "stdout",
     "output_type": "stream",
     "text": [
      "[[892]\n",
      " [893]\n",
      " [894]\n",
      " [895]\n",
      " [896]\n",
      " [897]\n",
      " [898]\n",
      " [899]\n",
      " [900]\n",
      " [901]\n",
      " [902]\n",
      " [903]\n",
      " [904]\n",
      " [905]\n",
      " [905]\n",
      " [906]\n",
      " [907]\n",
      " [908]\n",
      " [909]\n",
      " [910]]\n",
      "[0 1 0 0 1 0 1 0 1 0 0 0 1 0 1 1 0 0 1 0]\n"
     ]
    }
   ],
   "source": [
    "X = passenger.iloc[ : ,   : 1 ].values\n",
    "Y = passenger.iloc[ : , -1 ].values\n",
    "print(X)\n",
    "print(Y)"
   ]
  },
  {
   "cell_type": "markdown",
   "metadata": {
    "colab_type": "text",
    "id": "QXs6YOrO9pcx"
   },
   "source": [
    "SPLITTING THE DATASET INTO TRAIN AND TEST SETS"
   ]
  },
  {
   "cell_type": "code",
   "execution_count": 4,
   "metadata": {
    "colab": {},
    "colab_type": "code",
    "id": "OFUfUbl79pcy"
   },
   "outputs": [],
   "source": [
    "from sklearn.model_selection import train_test_split\n",
    "X_train, X_test, Y_train, Y_test = train_test_split( X, Y, test_size = 1/2, random_state = 0)"
   ]
  },
  {
   "cell_type": "code",
   "execution_count": 5,
   "metadata": {
    "colab": {
     "base_uri": "https://localhost:8080/",
     "height": 187
    },
    "colab_type": "code",
    "id": "tMqmVv_TTDPv",
    "outputId": "5fd0654f-00a5-4975-96c3-0056346a224a"
   },
   "outputs": [
    {
     "data": {
      "text/plain": [
       "array([[909],\n",
       "       [893],\n",
       "       [910],\n",
       "       [900],\n",
       "       [902],\n",
       "       [908],\n",
       "       [898],\n",
       "       [905],\n",
       "       [896],\n",
       "       [894]], dtype=int64)"
      ]
     },
     "execution_count": 5,
     "metadata": {},
     "output_type": "execute_result"
    }
   ],
   "source": [
    "X_test"
   ]
  },
  {
   "cell_type": "code",
   "execution_count": 6,
   "metadata": {
    "colab": {
     "base_uri": "https://localhost:8080/",
     "height": 187
    },
    "colab_type": "code",
    "id": "be_bAhJCS5-J",
    "outputId": "7f08f61b-6527-473d-9f48-d9188ebfb09e"
   },
   "outputs": [
    {
     "data": {
      "text/plain": [
       "array([[897],\n",
       "       [905],\n",
       "       [901],\n",
       "       [899],\n",
       "       [907],\n",
       "       [903],\n",
       "       [895],\n",
       "       [892],\n",
       "       [906],\n",
       "       [904]], dtype=int64)"
      ]
     },
     "execution_count": 6,
     "metadata": {},
     "output_type": "execute_result"
    }
   ],
   "source": [
    "X_train"
   ]
  },
  {
   "cell_type": "code",
   "execution_count": null,
   "metadata": {
    "colab": {},
    "colab_type": "code",
    "id": "GKvwpohQS2Ss"
   },
   "outputs": [],
   "source": []
  },
  {
   "cell_type": "code",
   "execution_count": 7,
   "metadata": {
    "colab": {},
    "colab_type": "code",
    "id": "CPAYYivU9pc2"
   },
   "outputs": [],
   "source": [
    "from sklearn.linear_model import LinearRegression\n",
    "regressor = LinearRegression()\n",
    "regressor = regressor.fit(X_train, Y_train)"
   ]
  },
  {
   "cell_type": "code",
   "execution_count": 8,
   "metadata": {
    "colab": {
     "base_uri": "https://localhost:8080/",
     "height": 51
    },
    "colab_type": "code",
    "id": "WYcEcbB59pc6",
    "outputId": "18f1d302-4545-4a9e-8a0e-c753eecdcd30"
   },
   "outputs": [
    {
     "data": {
      "text/plain": [
       "array([ 0.73909211, -0.12825033,  0.79330101,  0.25121199,  0.35962979,\n",
       "        0.68488321,  0.14279418,  0.5222565 ,  0.03437638, -0.07404143])"
      ]
     },
     "execution_count": 8,
     "metadata": {},
     "output_type": "execute_result"
    }
   ],
   "source": [
    "Y_pred = regressor.predict(X_test)\n",
    "Y_pred"
   ]
  },
  {
   "cell_type": "code",
   "execution_count": 9,
   "metadata": {
    "colab": {
     "base_uri": "https://localhost:8080/",
     "height": 282
    },
    "colab_type": "code",
    "id": "UBfIy9J69pc9",
    "outputId": "de926d86-6ddc-457c-92ee-cd1eeb03d8d7"
   },
   "outputs": [
    {
     "data": {
      "text/plain": [
       "[<matplotlib.lines.Line2D at 0x2b07e510b00>]"
      ]
     },
     "execution_count": 9,
     "metadata": {},
     "output_type": "execute_result"
    },
    {
     "data": {
      "image/png": "[encoded data removed]",
      "text/plain": [
       "<Figure size 432x288 with 1 Axes>"
      ]
     },
     "metadata": {
      "needs_background": "light"
     },
     "output_type": "display_data"
    }
   ],
   "source": [
    "plt.scatter(X_train , Y_train, color = 'red')\n",
    "plt.plot(X_train , regressor.predict(X_train), color ='blue')\n",
    "#xtest and y,prediction"
   ]
  },
  {
   "cell_type": "code",
   "execution_count": 10,
   "metadata": {
    "colab": {
     "base_uri": "https://localhost:8080/",
     "height": 282
    },
    "colab_type": "code",
    "id": "vg964kWJ9pdB",
    "outputId": "f1c8b790-b855-472a-f906-f38fa3f2da53"
   },
   "outputs": [
    {
     "data": {
      "text/plain": [
       "[<matplotlib.lines.Line2D at 0x2b07f615390>]"
      ]
     },
     "execution_count": 10,
     "metadata": {},
     "output_type": "execute_result"
    },
    {
     "data": {
      "image/png": "[encoded data removed]",
      "text/plain": [
       "<Figure size 432x288 with 1 Axes>"
      ]
     },
     "metadata": {
      "needs_background": "light"
     },
     "output_type": "display_data"
    }
   ],
   "source": [
    "plt.scatter(X_test , Y_test, color = 'red')\n",
    "plt.plot(X_test , regressor.predict(X_test), color ='blue')"
   ]
  },
  {
   "cell_type": "code",
   "execution_count": 11,
   "metadata": {
    "colab": {
     "base_uri": "https://localhost:8080/",
     "height": 51
    },
    "colab_type": "code",
    "id": "jx6qnMDp9pdF",
    "outputId": "3c7ba279-0ee9-40e0-d49c-438904aa24c4"
   },
   "outputs": [
    {
     "name": "stdout",
     "output_type": "stream",
     "text": [
      "0.5074895097682538\n",
      "-1.0299580390730152\n"
     ]
    }
   ],
   "source": [
    "from sklearn.metrics import mean_squared_error, r2_score\n",
    "import math\n",
    "print(mean_squared_error(Y_test, Y_pred))\n",
    "print(r2_score(Y_test, Y_pred))"
   ]
  },
  {
   "cell_type": "code",
   "execution_count": null,
   "metadata": {
    "colab": {},
    "colab_type": "code",
    "id": "mIOTQDmx9pdJ"
   },
   "outputs": [],
   "source": [
    "\n"
   ]
  },
  {
   "cell_type": "code",
   "execution_count": null,
   "metadata": {},
   "outputs": [],
   "source": []
  }
 ],
 "metadata": {
  "colab": {
   "collapsed_sections": [],
   "name": "Copy of LR_SKLEARN.ipynb",
   "provenance": []
  },
  "kernelspec": {
   "display_name": "Python 3",
   "language": "python",
   "name": "python3"
  },
  "language_info": {
   "codemirror_mode": {
    "name": "ipython",
    "version": 3
   },
   "file_extension": ".py",
   "mimetype": "text/x-python",
   "name": "python",
   "nbconvert_exporter": "python",
   "pygments_lexer": "ipython3",
   "version": "3.7.2"
  }
 },
 "nbformat": 4,
 "nbformat_minor": 1
}
